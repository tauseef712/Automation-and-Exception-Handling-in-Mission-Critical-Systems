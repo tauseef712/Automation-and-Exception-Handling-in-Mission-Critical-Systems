{
  "metadata": {
    "colab": {
      "provenance": [],
      "gpuType": "T4"
    },
    "kernelspec": {
      "name": "python3",
      "display_name": "Python 3",
      "language": "python"
    },
    "language_info": {
      "name": "python",
      "version": "3.10.13",
      "mimetype": "text/x-python",
      "codemirror_mode": {
        "name": "ipython",
        "version": 3
      },
      "pygments_lexer": "ipython3",
      "nbconvert_exporter": "python",
      "file_extension": ".py"
    },
    "accelerator": "GPU",
    "kaggle": {
      "accelerator": "nvidiaTeslaT4",
      "dataSources": [
        {
          "sourceId": 8314068,
          "sourceType": "datasetVersion",
          "datasetId": 4938871
        }
      ],
      "dockerImageVersionId": 30698,
      "isInternetEnabled": true,
      "language": "python",
      "sourceType": "notebook",
      "isGpuEnabled": true
    }
  },
  "nbformat_minor": 0,
  "nbformat": 4,
  "cells": [
    {
      "cell_type": "code",
      "source": [
        "import pandas as pd\n",
        "import numpy as np\n",
        "import matplotlib.pyplot as plt\n",
        "import seaborn as sns\n",
        "from sklearn.preprocessing import MinMaxScaler, LabelEncoder\n",
        "from sklearn.model_selection import train_test_split, GridSearchCV\n",
        "from sklearn.metrics import  mean_squared_error\n",
        "from scipy.stats import zscore\n",
        "from xgboost import XGBRegressor\n",
        "import xgboost as xgb\n",
        "# from sklearn.metrics import mean_squared_error, explained_variance_score, r2_score,mean_absolute_error\n",
        "from sklearn.metrics import f1_score\n",
        "from sklearn.model_selection import KFold,StratifiedKFold\n",
        "import numpy as np\n",
        "import warnings\n",
        "warnings.filterwarnings('ignore')\n",
        "\n",
        "import os\n",
        "for dirname, _, filenames in os.walk('/kaggle/input'):\n",
        "    for filename in filenames:\n",
        "        print(os.path.join(dirname, filename))"
      ],
      "metadata": {
        "id": "nNcb_ztdR-9M",
        "execution": {
          "iopub.status.busy": "2024-05-07T15:00:05.935547Z",
          "iopub.execute_input": "2024-05-07T15:00:05.936513Z",
          "iopub.status.idle": "2024-05-07T15:00:08.830722Z",
          "shell.execute_reply.started": "2024-05-07T15:00:05.936457Z",
          "shell.execute_reply": "2024-05-07T15:00:08.829796Z"
        },
        "trusted": true
      },
      "execution_count": 6,
      "outputs": []
    },
    {
      "cell_type": "code",
      "source": [
        "# Import the library\n",
        "from google.colab import drive\n",
        "\n",
        "# Mount Google Drive\n",
        "drive.mount('/content/drive')"
      ],
      "metadata": {
        "colab": {
          "base_uri": "https://localhost:8080/"
        },
        "id": "qEiiU-TL34hk",
        "outputId": "49821ec9-8b21-4657-afa2-00a62cdaab95"
      },
      "execution_count": 9,
      "outputs": [
        {
          "output_type": "stream",
          "name": "stdout",
          "text": [
            "Drive already mounted at /content/drive; to attempt to forcibly remount, call drive.mount(\"/content/drive\", force_remount=True).\n"
          ]
        }
      ]
    },
    {
      "cell_type": "code",
      "source": [
        "# Load the dataset\n",
        "data = pd.read_csv('/content/drive/MyDrive/vehicle_claims_labeled.csv')"
      ],
      "metadata": {
        "id": "1iDm1Yelbmmb",
        "execution": {
          "iopub.status.busy": "2024-05-07T15:00:08.832736Z",
          "iopub.execute_input": "2024-05-07T15:00:08.833535Z",
          "iopub.status.idle": "2024-05-07T15:00:10.460534Z",
          "shell.execute_reply.started": "2024-05-07T15:00:08.833479Z",
          "shell.execute_reply": "2024-05-07T15:00:10.459647Z"
        },
        "trusted": true
      },
      "execution_count": 12,
      "outputs": []
    },
    {
      "cell_type": "code",
      "source": [
        "data.describe()"
      ],
      "metadata": {
        "colab": {
          "base_uri": "https://localhost:8080/",
          "height": 320
        },
        "id": "mtD378Go6O4H",
        "outputId": "7187ab8b-771a-48c2-f957-08b25bb55240",
        "execution": {
          "iopub.status.busy": "2024-05-07T15:00:10.461819Z",
          "iopub.execute_input": "2024-05-07T15:00:10.462546Z",
          "iopub.status.idle": "2024-05-07T15:00:10.622893Z",
          "shell.execute_reply.started": "2024-05-07T15:00:10.462481Z",
          "shell.execute_reply": "2024-05-07T15:00:10.621914Z"
        },
        "trusted": true
      },
      "execution_count": 14,
      "outputs": [
        {
          "output_type": "execute_result",
          "data": {
            "text/plain": [
              "            Adv_year      Adv_month       Reg_year  Runned_Miles  \\\n",
              "count  268255.000000  268255.000000  268255.000000  2.682550e+05   \n",
              "mean     2018.127778       5.626143    2012.734454  4.789530e+04   \n",
              "std         0.747476       2.091577       6.774572  4.193141e+04   \n",
              "min      2012.000000       1.000000    1900.000000 -1.996600e+04   \n",
              "25%      2018.000000       4.000000    2010.000000  1.399950e+04   \n",
              "50%      2018.000000       5.000000    2014.000000  3.900000e+04   \n",
              "75%      2018.000000       7.000000    2016.000000  7.500000e+04   \n",
              "max      2021.000000      33.000000    3010.000000  6.363342e+06   \n",
              "\n",
              "              Price       Seat_num       Door_num       issue_id  \\\n",
              "count  2.682550e+05  268255.000000  268255.000000  268255.000000   \n",
              "mean   1.336874e+04       5.147665       4.297396       0.499048   \n",
              "std    4.131664e+04       1.840407       1.149057       1.133988   \n",
              "min   -6.999250e+05       1.000000       0.000000       0.000000   \n",
              "25%    4.985000e+03       5.000000       4.000000       0.000000   \n",
              "50%    9.289000e+03       5.000000       5.000000       0.000000   \n",
              "75%    1.700000e+04       5.000000       5.000000       0.000000   \n",
              "max    9.999999e+06      20.000000       7.000000       5.000000   \n",
              "\n",
              "             Adv_day  repair_complexity    repair_cost   repair_hours  \\\n",
              "count  268255.000000      268255.000000  268255.000000  268255.000000   \n",
              "mean       14.528717           1.361496     444.610199      62.070247   \n",
              "std         8.070252           0.725593    1806.642861     803.694550   \n",
              "min         1.000000           1.000000   -2998.000000     -30.000000   \n",
              "25%         8.000000           1.000000      40.691000       1.000000   \n",
              "50%        15.000000           1.000000     121.500000       2.000000   \n",
              "75%        22.000000           1.000000     334.500000       6.000000   \n",
              "max        28.000000           4.000000  259480.000000  180985.493395   \n",
              "\n",
              "               Label  category_anomaly  \n",
              "count  268255.000000     268255.000000  \n",
              "mean        0.211549          0.093076  \n",
              "std         0.408407          0.290539  \n",
              "min         0.000000          0.000000  \n",
              "25%         0.000000          0.000000  \n",
              "50%         0.000000          0.000000  \n",
              "75%         0.000000          0.000000  \n",
              "max         1.000000          1.000000  "
            ],
            "text/html": [
              "\n",
              "  <div id=\"df-73fc2651-8f25-4319-81ef-435acce227ea\" class=\"colab-df-container\">\n",
              "    <div>\n",
              "<style scoped>\n",
              "    .dataframe tbody tr th:only-of-type {\n",
              "        vertical-align: middle;\n",
              "    }\n",
              "\n",
              "    .dataframe tbody tr th {\n",
              "        vertical-align: top;\n",
              "    }\n",
              "\n",
              "    .dataframe thead th {\n",
              "        text-align: right;\n",
              "    }\n",
              "</style>\n",
              "<table border=\"1\" class=\"dataframe\">\n",
              "  <thead>\n",
              "    <tr style=\"text-align: right;\">\n",
              "      <th></th>\n",
              "      <th>Adv_year</th>\n",
              "      <th>Adv_month</th>\n",
              "      <th>Reg_year</th>\n",
              "      <th>Runned_Miles</th>\n",
              "      <th>Price</th>\n",
              "      <th>Seat_num</th>\n",
              "      <th>Door_num</th>\n",
              "      <th>issue_id</th>\n",
              "      <th>Adv_day</th>\n",
              "      <th>repair_complexity</th>\n",
              "      <th>repair_cost</th>\n",
              "      <th>repair_hours</th>\n",
              "      <th>Label</th>\n",
              "      <th>category_anomaly</th>\n",
              "    </tr>\n",
              "  </thead>\n",
              "  <tbody>\n",
              "    <tr>\n",
              "      <th>count</th>\n",
              "      <td>268255.000000</td>\n",
              "      <td>268255.000000</td>\n",
              "      <td>268255.000000</td>\n",
              "      <td>2.682550e+05</td>\n",
              "      <td>2.682550e+05</td>\n",
              "      <td>268255.000000</td>\n",
              "      <td>268255.000000</td>\n",
              "      <td>268255.000000</td>\n",
              "      <td>268255.000000</td>\n",
              "      <td>268255.000000</td>\n",
              "      <td>268255.000000</td>\n",
              "      <td>268255.000000</td>\n",
              "      <td>268255.000000</td>\n",
              "      <td>268255.000000</td>\n",
              "    </tr>\n",
              "    <tr>\n",
              "      <th>mean</th>\n",
              "      <td>2018.127778</td>\n",
              "      <td>5.626143</td>\n",
              "      <td>2012.734454</td>\n",
              "      <td>4.789530e+04</td>\n",
              "      <td>1.336874e+04</td>\n",
              "      <td>5.147665</td>\n",
              "      <td>4.297396</td>\n",
              "      <td>0.499048</td>\n",
              "      <td>14.528717</td>\n",
              "      <td>1.361496</td>\n",
              "      <td>444.610199</td>\n",
              "      <td>62.070247</td>\n",
              "      <td>0.211549</td>\n",
              "      <td>0.093076</td>\n",
              "    </tr>\n",
              "    <tr>\n",
              "      <th>std</th>\n",
              "      <td>0.747476</td>\n",
              "      <td>2.091577</td>\n",
              "      <td>6.774572</td>\n",
              "      <td>4.193141e+04</td>\n",
              "      <td>4.131664e+04</td>\n",
              "      <td>1.840407</td>\n",
              "      <td>1.149057</td>\n",
              "      <td>1.133988</td>\n",
              "      <td>8.070252</td>\n",
              "      <td>0.725593</td>\n",
              "      <td>1806.642861</td>\n",
              "      <td>803.694550</td>\n",
              "      <td>0.408407</td>\n",
              "      <td>0.290539</td>\n",
              "    </tr>\n",
              "    <tr>\n",
              "      <th>min</th>\n",
              "      <td>2012.000000</td>\n",
              "      <td>1.000000</td>\n",
              "      <td>1900.000000</td>\n",
              "      <td>-1.996600e+04</td>\n",
              "      <td>-6.999250e+05</td>\n",
              "      <td>1.000000</td>\n",
              "      <td>0.000000</td>\n",
              "      <td>0.000000</td>\n",
              "      <td>1.000000</td>\n",
              "      <td>1.000000</td>\n",
              "      <td>-2998.000000</td>\n",
              "      <td>-30.000000</td>\n",
              "      <td>0.000000</td>\n",
              "      <td>0.000000</td>\n",
              "    </tr>\n",
              "    <tr>\n",
              "      <th>25%</th>\n",
              "      <td>2018.000000</td>\n",
              "      <td>4.000000</td>\n",
              "      <td>2010.000000</td>\n",
              "      <td>1.399950e+04</td>\n",
              "      <td>4.985000e+03</td>\n",
              "      <td>5.000000</td>\n",
              "      <td>4.000000</td>\n",
              "      <td>0.000000</td>\n",
              "      <td>8.000000</td>\n",
              "      <td>1.000000</td>\n",
              "      <td>40.691000</td>\n",
              "      <td>1.000000</td>\n",
              "      <td>0.000000</td>\n",
              "      <td>0.000000</td>\n",
              "    </tr>\n",
              "    <tr>\n",
              "      <th>50%</th>\n",
              "      <td>2018.000000</td>\n",
              "      <td>5.000000</td>\n",
              "      <td>2014.000000</td>\n",
              "      <td>3.900000e+04</td>\n",
              "      <td>9.289000e+03</td>\n",
              "      <td>5.000000</td>\n",
              "      <td>5.000000</td>\n",
              "      <td>0.000000</td>\n",
              "      <td>15.000000</td>\n",
              "      <td>1.000000</td>\n",
              "      <td>121.500000</td>\n",
              "      <td>2.000000</td>\n",
              "      <td>0.000000</td>\n",
              "      <td>0.000000</td>\n",
              "    </tr>\n",
              "    <tr>\n",
              "      <th>75%</th>\n",
              "      <td>2018.000000</td>\n",
              "      <td>7.000000</td>\n",
              "      <td>2016.000000</td>\n",
              "      <td>7.500000e+04</td>\n",
              "      <td>1.700000e+04</td>\n",
              "      <td>5.000000</td>\n",
              "      <td>5.000000</td>\n",
              "      <td>0.000000</td>\n",
              "      <td>22.000000</td>\n",
              "      <td>1.000000</td>\n",
              "      <td>334.500000</td>\n",
              "      <td>6.000000</td>\n",
              "      <td>0.000000</td>\n",
              "      <td>0.000000</td>\n",
              "    </tr>\n",
              "    <tr>\n",
              "      <th>max</th>\n",
              "      <td>2021.000000</td>\n",
              "      <td>33.000000</td>\n",
              "      <td>3010.000000</td>\n",
              "      <td>6.363342e+06</td>\n",
              "      <td>9.999999e+06</td>\n",
              "      <td>20.000000</td>\n",
              "      <td>7.000000</td>\n",
              "      <td>5.000000</td>\n",
              "      <td>28.000000</td>\n",
              "      <td>4.000000</td>\n",
              "      <td>259480.000000</td>\n",
              "      <td>180985.493395</td>\n",
              "      <td>1.000000</td>\n",
              "      <td>1.000000</td>\n",
              "    </tr>\n",
              "  </tbody>\n",
              "</table>\n",
              "</div>\n",
              "    <div class=\"colab-df-buttons\">\n",
              "\n",
              "  <div class=\"colab-df-container\">\n",
              "    <button class=\"colab-df-convert\" onclick=\"convertToInteractive('df-73fc2651-8f25-4319-81ef-435acce227ea')\"\n",
              "            title=\"Convert this dataframe to an interactive table.\"\n",
              "            style=\"display:none;\">\n",
              "\n",
              "  <svg xmlns=\"http://www.w3.org/2000/svg\" height=\"24px\" viewBox=\"0 -960 960 960\">\n",
              "    <path d=\"M120-120v-720h720v720H120Zm60-500h600v-160H180v160Zm220 220h160v-160H400v160Zm0 220h160v-160H400v160ZM180-400h160v-160H180v160Zm440 0h160v-160H620v160ZM180-180h160v-160H180v160Zm440 0h160v-160H620v160Z\"/>\n",
              "  </svg>\n",
              "    </button>\n",
              "\n",
              "  <style>\n",
              "    .colab-df-container {\n",
              "      display:flex;\n",
              "      gap: 12px;\n",
              "    }\n",
              "\n",
              "    .colab-df-convert {\n",
              "      background-color: #E8F0FE;\n",
              "      border: none;\n",
              "      border-radius: 50%;\n",
              "      cursor: pointer;\n",
              "      display: none;\n",
              "      fill: #1967D2;\n",
              "      height: 32px;\n",
              "      padding: 0 0 0 0;\n",
              "      width: 32px;\n",
              "    }\n",
              "\n",
              "    .colab-df-convert:hover {\n",
              "      background-color: #E2EBFA;\n",
              "      box-shadow: 0px 1px 2px rgba(60, 64, 67, 0.3), 0px 1px 3px 1px rgba(60, 64, 67, 0.15);\n",
              "      fill: #174EA6;\n",
              "    }\n",
              "\n",
              "    .colab-df-buttons div {\n",
              "      margin-bottom: 4px;\n",
              "    }\n",
              "\n",
              "    [theme=dark] .colab-df-convert {\n",
              "      background-color: #3B4455;\n",
              "      fill: #D2E3FC;\n",
              "    }\n",
              "\n",
              "    [theme=dark] .colab-df-convert:hover {\n",
              "      background-color: #434B5C;\n",
              "      box-shadow: 0px 1px 3px 1px rgba(0, 0, 0, 0.15);\n",
              "      filter: drop-shadow(0px 1px 2px rgba(0, 0, 0, 0.3));\n",
              "      fill: #FFFFFF;\n",
              "    }\n",
              "  </style>\n",
              "\n",
              "    <script>\n",
              "      const buttonEl =\n",
              "        document.querySelector('#df-73fc2651-8f25-4319-81ef-435acce227ea button.colab-df-convert');\n",
              "      buttonEl.style.display =\n",
              "        google.colab.kernel.accessAllowed ? 'block' : 'none';\n",
              "\n",
              "      async function convertToInteractive(key) {\n",
              "        const element = document.querySelector('#df-73fc2651-8f25-4319-81ef-435acce227ea');\n",
              "        const dataTable =\n",
              "          await google.colab.kernel.invokeFunction('convertToInteractive',\n",
              "                                                    [key], {});\n",
              "        if (!dataTable) return;\n",
              "\n",
              "        const docLinkHtml = 'Like what you see? Visit the ' +\n",
              "          '<a target=\"_blank\" href=https://colab.research.google.com/notebooks/data_table.ipynb>data table notebook</a>'\n",
              "          + ' to learn more about interactive tables.';\n",
              "        element.innerHTML = '';\n",
              "        dataTable['output_type'] = 'display_data';\n",
              "        await google.colab.output.renderOutput(dataTable, element);\n",
              "        const docLink = document.createElement('div');\n",
              "        docLink.innerHTML = docLinkHtml;\n",
              "        element.appendChild(docLink);\n",
              "      }\n",
              "    </script>\n",
              "  </div>\n",
              "\n",
              "\n",
              "<div id=\"df-e8c17c53-c4e5-4336-a817-7c59805c8063\">\n",
              "  <button class=\"colab-df-quickchart\" onclick=\"quickchart('df-e8c17c53-c4e5-4336-a817-7c59805c8063')\"\n",
              "            title=\"Suggest charts\"\n",
              "            style=\"display:none;\">\n",
              "\n",
              "<svg xmlns=\"http://www.w3.org/2000/svg\" height=\"24px\"viewBox=\"0 0 24 24\"\n",
              "     width=\"24px\">\n",
              "    <g>\n",
              "        <path d=\"M19 3H5c-1.1 0-2 .9-2 2v14c0 1.1.9 2 2 2h14c1.1 0 2-.9 2-2V5c0-1.1-.9-2-2-2zM9 17H7v-7h2v7zm4 0h-2V7h2v10zm4 0h-2v-4h2v4z\"/>\n",
              "    </g>\n",
              "</svg>\n",
              "  </button>\n",
              "\n",
              "<style>\n",
              "  .colab-df-quickchart {\n",
              "      --bg-color: #E8F0FE;\n",
              "      --fill-color: #1967D2;\n",
              "      --hover-bg-color: #E2EBFA;\n",
              "      --hover-fill-color: #174EA6;\n",
              "      --disabled-fill-color: #AAA;\n",
              "      --disabled-bg-color: #DDD;\n",
              "  }\n",
              "\n",
              "  [theme=dark] .colab-df-quickchart {\n",
              "      --bg-color: #3B4455;\n",
              "      --fill-color: #D2E3FC;\n",
              "      --hover-bg-color: #434B5C;\n",
              "      --hover-fill-color: #FFFFFF;\n",
              "      --disabled-bg-color: #3B4455;\n",
              "      --disabled-fill-color: #666;\n",
              "  }\n",
              "\n",
              "  .colab-df-quickchart {\n",
              "    background-color: var(--bg-color);\n",
              "    border: none;\n",
              "    border-radius: 50%;\n",
              "    cursor: pointer;\n",
              "    display: none;\n",
              "    fill: var(--fill-color);\n",
              "    height: 32px;\n",
              "    padding: 0;\n",
              "    width: 32px;\n",
              "  }\n",
              "\n",
              "  .colab-df-quickchart:hover {\n",
              "    background-color: var(--hover-bg-color);\n",
              "    box-shadow: 0 1px 2px rgba(60, 64, 67, 0.3), 0 1px 3px 1px rgba(60, 64, 67, 0.15);\n",
              "    fill: var(--button-hover-fill-color);\n",
              "  }\n",
              "\n",
              "  .colab-df-quickchart-complete:disabled,\n",
              "  .colab-df-quickchart-complete:disabled:hover {\n",
              "    background-color: var(--disabled-bg-color);\n",
              "    fill: var(--disabled-fill-color);\n",
              "    box-shadow: none;\n",
              "  }\n",
              "\n",
              "  .colab-df-spinner {\n",
              "    border: 2px solid var(--fill-color);\n",
              "    border-color: transparent;\n",
              "    border-bottom-color: var(--fill-color);\n",
              "    animation:\n",
              "      spin 1s steps(1) infinite;\n",
              "  }\n",
              "\n",
              "  @keyframes spin {\n",
              "    0% {\n",
              "      border-color: transparent;\n",
              "      border-bottom-color: var(--fill-color);\n",
              "      border-left-color: var(--fill-color);\n",
              "    }\n",
              "    20% {\n",
              "      border-color: transparent;\n",
              "      border-left-color: var(--fill-color);\n",
              "      border-top-color: var(--fill-color);\n",
              "    }\n",
              "    30% {\n",
              "      border-color: transparent;\n",
              "      border-left-color: var(--fill-color);\n",
              "      border-top-color: var(--fill-color);\n",
              "      border-right-color: var(--fill-color);\n",
              "    }\n",
              "    40% {\n",
              "      border-color: transparent;\n",
              "      border-right-color: var(--fill-color);\n",
              "      border-top-color: var(--fill-color);\n",
              "    }\n",
              "    60% {\n",
              "      border-color: transparent;\n",
              "      border-right-color: var(--fill-color);\n",
              "    }\n",
              "    80% {\n",
              "      border-color: transparent;\n",
              "      border-right-color: var(--fill-color);\n",
              "      border-bottom-color: var(--fill-color);\n",
              "    }\n",
              "    90% {\n",
              "      border-color: transparent;\n",
              "      border-bottom-color: var(--fill-color);\n",
              "    }\n",
              "  }\n",
              "</style>\n",
              "\n",
              "  <script>\n",
              "    async function quickchart(key) {\n",
              "      const quickchartButtonEl =\n",
              "        document.querySelector('#' + key + ' button');\n",
              "      quickchartButtonEl.disabled = true;  // To prevent multiple clicks.\n",
              "      quickchartButtonEl.classList.add('colab-df-spinner');\n",
              "      try {\n",
              "        const charts = await google.colab.kernel.invokeFunction(\n",
              "            'suggestCharts', [key], {});\n",
              "      } catch (error) {\n",
              "        console.error('Error during call to suggestCharts:', error);\n",
              "      }\n",
              "      quickchartButtonEl.classList.remove('colab-df-spinner');\n",
              "      quickchartButtonEl.classList.add('colab-df-quickchart-complete');\n",
              "    }\n",
              "    (() => {\n",
              "      let quickchartButtonEl =\n",
              "        document.querySelector('#df-e8c17c53-c4e5-4336-a817-7c59805c8063 button');\n",
              "      quickchartButtonEl.style.display =\n",
              "        google.colab.kernel.accessAllowed ? 'block' : 'none';\n",
              "    })();\n",
              "  </script>\n",
              "</div>\n",
              "    </div>\n",
              "  </div>\n"
            ],
            "application/vnd.google.colaboratory.intrinsic+json": {
              "type": "dataframe",
              "summary": "{\n  \"name\": \"data\",\n  \"rows\": 8,\n  \"fields\": [\n    {\n      \"column\": \"Adv_year\",\n      \"properties\": {\n        \"dtype\": \"number\",\n        \"std\": 94233.66844152183,\n        \"min\": 0.7474764747111928,\n        \"max\": 268255.0,\n        \"num_unique_values\": 6,\n        \"samples\": [\n          268255.0,\n          2018.127777674228,\n          2021.0\n        ],\n        \"semantic_type\": \"\",\n        \"description\": \"\"\n      }\n    },\n    {\n      \"column\": \"Adv_month\",\n      \"properties\": {\n        \"dtype\": \"number\",\n        \"std\": 94839.55016593564,\n        \"min\": 1.0,\n        \"max\": 268255.0,\n        \"num_unique_values\": 8,\n        \"samples\": [\n          5.626143035544538,\n          5.0,\n          268255.0\n        ],\n        \"semantic_type\": \"\",\n        \"description\": \"\"\n      }\n    },\n    {\n      \"column\": \"Reg_year\",\n      \"properties\": {\n        \"dtype\": \"number\",\n        \"std\": 94191.08523423702,\n        \"min\": 6.774572415947476,\n        \"max\": 268255.0,\n        \"num_unique_values\": 8,\n        \"samples\": [\n          2012.7344541574248,\n          2014.0,\n          268255.0\n        ],\n        \"semantic_type\": \"\",\n        \"description\": \"\"\n      }\n    },\n    {\n      \"column\": \"Runned_Miles\",\n      \"properties\": {\n        \"dtype\": \"number\",\n        \"std\": 2227929.5085405186,\n        \"min\": -19966.0,\n        \"max\": 6363342.0,\n        \"num_unique_values\": 8,\n        \"samples\": [\n          47895.30145943226,\n          39000.0,\n          268255.0\n        ],\n        \"semantic_type\": \"\",\n        \"description\": \"\"\n      }\n    },\n    {\n      \"column\": \"Price\",\n      \"properties\": {\n        \"dtype\": \"number\",\n        \"std\": 3563975.7325589648,\n        \"min\": -699925.0,\n        \"max\": 9999999.0,\n        \"num_unique_values\": 8,\n        \"samples\": [\n          13368.740672121676,\n          9289.0,\n          268255.0\n        ],\n        \"semantic_type\": \"\",\n        \"description\": \"\"\n      }\n    },\n    {\n      \"column\": \"Seat_num\",\n      \"properties\": {\n        \"dtype\": \"number\",\n        \"std\": 94840.29375023153,\n        \"min\": 1.0,\n        \"max\": 268255.0,\n        \"num_unique_values\": 6,\n        \"samples\": [\n          268255.0,\n          5.147665467558853,\n          20.0\n        ],\n        \"semantic_type\": \"\",\n        \"description\": \"\"\n      }\n    },\n    {\n      \"column\": \"Door_num\",\n      \"properties\": {\n        \"dtype\": \"number\",\n        \"std\": 94841.12907226589,\n        \"min\": 0.0,\n        \"max\": 268255.0,\n        \"num_unique_values\": 7,\n        \"samples\": [\n          268255.0,\n          4.297396134275223,\n          5.0\n        ],\n        \"semantic_type\": \"\",\n        \"description\": \"\"\n      }\n    },\n    {\n      \"column\": \"issue_id\",\n      \"properties\": {\n        \"dtype\": \"number\",\n        \"std\": 94842.12978996524,\n        \"min\": 0.0,\n        \"max\": 268255.0,\n        \"num_unique_values\": 5,\n        \"samples\": [\n          0.499047548041975,\n          5.0,\n          1.133987945079569\n        ],\n        \"semantic_type\": \"\",\n        \"description\": \"\"\n      }\n    },\n    {\n      \"column\": \"Adv_day\",\n      \"properties\": {\n        \"dtype\": \"number\",\n        \"std\": 94837.58618635322,\n        \"min\": 1.0,\n        \"max\": 268255.0,\n        \"num_unique_values\": 8,\n        \"samples\": [\n          14.52871707889881,\n          15.0,\n          268255.0\n        ],\n        \"semantic_type\": \"\",\n        \"description\": \"\"\n      }\n    },\n    {\n      \"column\": \"repair_complexity\",\n      \"properties\": {\n        \"dtype\": \"number\",\n        \"std\": 94841.95532460572,\n        \"min\": 0.725592811669214,\n        \"max\": 268255.0,\n        \"num_unique_values\": 5,\n        \"samples\": [\n          1.3614955918808596,\n          4.0,\n          0.725592811669214\n        ],\n        \"semantic_type\": \"\",\n        \"description\": \"\"\n      }\n    },\n    {\n      \"column\": \"repair_cost\",\n      \"properties\": {\n        \"dtype\": \"number\",\n        \"std\": 122196.06470030887,\n        \"min\": -2998.0,\n        \"max\": 268255.0,\n        \"num_unique_values\": 8,\n        \"samples\": [\n          444.6101987943488,\n          121.5,\n          268255.0\n        ],\n        \"semantic_type\": \"\",\n        \"description\": \"\"\n      }\n    },\n    {\n      \"column\": \"repair_hours\",\n      \"properties\": {\n        \"dtype\": \"number\",\n        \"std\": 106499.5319292136,\n        \"min\": -30.0,\n        \"max\": 268255.0,\n        \"num_unique_values\": 8,\n        \"samples\": [\n          62.070246728086964,\n          2.0,\n          268255.0\n        ],\n        \"semantic_type\": \"\",\n        \"description\": \"\"\n      }\n    },\n    {\n      \"column\": \"Label\",\n      \"properties\": {\n        \"dtype\": \"number\",\n        \"std\": 94842.38297409717,\n        \"min\": 0.0,\n        \"max\": 268255.0,\n        \"num_unique_values\": 5,\n        \"samples\": [\n          0.21154871297832287,\n          1.0,\n          0.4084072438128752\n        ],\n        \"semantic_type\": \"\",\n        \"description\": \"\"\n      }\n    },\n    {\n      \"column\": \"category_anomaly\",\n      \"properties\": {\n        \"dtype\": \"number\",\n        \"std\": 94842.39491112872,\n        \"min\": 0.0,\n        \"max\": 268255.0,\n        \"num_unique_values\": 5,\n        \"samples\": [\n          0.09307561834821346,\n          1.0,\n          0.2905389169995442\n        ],\n        \"semantic_type\": \"\",\n        \"description\": \"\"\n      }\n    }\n  ]\n}"
            }
          },
          "metadata": {},
          "execution_count": 14
        }
      ]
    },
    {
      "cell_type": "code",
      "source": [
        "data.head()"
      ],
      "metadata": {
        "colab": {
          "base_uri": "https://localhost:8080/",
          "height": 360
        },
        "id": "MRTyLObg6TjY",
        "outputId": "13d59049-82eb-4dbc-b8de-fbd4cb978acb",
        "execution": {
          "iopub.status.busy": "2024-05-07T15:00:10.625648Z",
          "iopub.execute_input": "2024-05-07T15:00:10.626298Z",
          "iopub.status.idle": "2024-05-07T15:00:10.654778Z",
          "shell.execute_reply.started": "2024-05-07T15:00:10.626260Z",
          "shell.execute_reply": "2024-05-07T15:00:10.653775Z"
        },
        "trusted": true
      },
      "execution_count": 15,
      "outputs": [
        {
          "output_type": "execute_result",
          "data": {
            "text/plain": [
              "     Maker  Genmodel  Genmodel_ID  Adv_year  Adv_month   Color  Reg_year  \\\n",
              "0  Bentley    Arnage         10_1      2018          4  Silver    2000.0   \n",
              "1  Bentley    Arnage         10_1      2018          6    Grey    2002.0   \n",
              "2  Bentley    Arnage         10_1      2017         11    Blue    2002.0   \n",
              "3  Bentley    Arnage         10_1      2018          4   Green    2003.0   \n",
              "4  Bentley    Arnage         10_1      2017         11    Grey    2003.0   \n",
              "\n",
              "  Bodytype  Runned_Miles Engin_size  ...                   issue issue_id  \\\n",
              "0   Saloon         60000       6.8L  ...     Starter Motor Issue        0   \n",
              "1   Saloon         44000       6.8L  ...        Radiator Leaking        0   \n",
              "2   Saloon         55000       6.8L  ...  Steering Wheel Shaking        0   \n",
              "3   Saloon         14000       6.8L  ...        Electrical Issue        4   \n",
              "4   Saloon         61652       6.8L  ...        Windscreen Crack        0   \n",
              "\n",
              "   Adv_day  breakdown_date  repair_complexity repair_cost  repair_hours  \\\n",
              "0       19      2018-04-19                  3     395.000           9.0   \n",
              "1       15      2018-06-15                  3     695.000           6.0   \n",
              "2       10      2017-11-10                  3      89.999           3.0   \n",
              "3       14      2018-04-14                  3     224.844           6.0   \n",
              "4        6      2017-11-06                  3      75.933           3.0   \n",
              "\n",
              "   Label category_anomaly  repair_date  \n",
              "0      0                0   2018-04-21  \n",
              "1      0                0   2018-06-16  \n",
              "2      0                0   2017-11-10  \n",
              "3      0                0   2018-04-15  \n",
              "4      0                0   2017-11-06  \n",
              "\n",
              "[5 rows x 25 columns]"
            ],
            "text/html": [
              "\n",
              "  <div id=\"df-3ba03b10-4299-44ed-a29e-2f49b5dedaa4\" class=\"colab-df-container\">\n",
              "    <div>\n",
              "<style scoped>\n",
              "    .dataframe tbody tr th:only-of-type {\n",
              "        vertical-align: middle;\n",
              "    }\n",
              "\n",
              "    .dataframe tbody tr th {\n",
              "        vertical-align: top;\n",
              "    }\n",
              "\n",
              "    .dataframe thead th {\n",
              "        text-align: right;\n",
              "    }\n",
              "</style>\n",
              "<table border=\"1\" class=\"dataframe\">\n",
              "  <thead>\n",
              "    <tr style=\"text-align: right;\">\n",
              "      <th></th>\n",
              "      <th>Maker</th>\n",
              "      <th>Genmodel</th>\n",
              "      <th>Genmodel_ID</th>\n",
              "      <th>Adv_year</th>\n",
              "      <th>Adv_month</th>\n",
              "      <th>Color</th>\n",
              "      <th>Reg_year</th>\n",
              "      <th>Bodytype</th>\n",
              "      <th>Runned_Miles</th>\n",
              "      <th>Engin_size</th>\n",
              "      <th>...</th>\n",
              "      <th>issue</th>\n",
              "      <th>issue_id</th>\n",
              "      <th>Adv_day</th>\n",
              "      <th>breakdown_date</th>\n",
              "      <th>repair_complexity</th>\n",
              "      <th>repair_cost</th>\n",
              "      <th>repair_hours</th>\n",
              "      <th>Label</th>\n",
              "      <th>category_anomaly</th>\n",
              "      <th>repair_date</th>\n",
              "    </tr>\n",
              "  </thead>\n",
              "  <tbody>\n",
              "    <tr>\n",
              "      <th>0</th>\n",
              "      <td>Bentley</td>\n",
              "      <td>Arnage</td>\n",
              "      <td>10_1</td>\n",
              "      <td>2018</td>\n",
              "      <td>4</td>\n",
              "      <td>Silver</td>\n",
              "      <td>2000.0</td>\n",
              "      <td>Saloon</td>\n",
              "      <td>60000</td>\n",
              "      <td>6.8L</td>\n",
              "      <td>...</td>\n",
              "      <td>Starter Motor Issue</td>\n",
              "      <td>0</td>\n",
              "      <td>19</td>\n",
              "      <td>2018-04-19</td>\n",
              "      <td>3</td>\n",
              "      <td>395.000</td>\n",
              "      <td>9.0</td>\n",
              "      <td>0</td>\n",
              "      <td>0</td>\n",
              "      <td>2018-04-21</td>\n",
              "    </tr>\n",
              "    <tr>\n",
              "      <th>1</th>\n",
              "      <td>Bentley</td>\n",
              "      <td>Arnage</td>\n",
              "      <td>10_1</td>\n",
              "      <td>2018</td>\n",
              "      <td>6</td>\n",
              "      <td>Grey</td>\n",
              "      <td>2002.0</td>\n",
              "      <td>Saloon</td>\n",
              "      <td>44000</td>\n",
              "      <td>6.8L</td>\n",
              "      <td>...</td>\n",
              "      <td>Radiator Leaking</td>\n",
              "      <td>0</td>\n",
              "      <td>15</td>\n",
              "      <td>2018-06-15</td>\n",
              "      <td>3</td>\n",
              "      <td>695.000</td>\n",
              "      <td>6.0</td>\n",
              "      <td>0</td>\n",
              "      <td>0</td>\n",
              "      <td>2018-06-16</td>\n",
              "    </tr>\n",
              "    <tr>\n",
              "      <th>2</th>\n",
              "      <td>Bentley</td>\n",
              "      <td>Arnage</td>\n",
              "      <td>10_1</td>\n",
              "      <td>2017</td>\n",
              "      <td>11</td>\n",
              "      <td>Blue</td>\n",
              "      <td>2002.0</td>\n",
              "      <td>Saloon</td>\n",
              "      <td>55000</td>\n",
              "      <td>6.8L</td>\n",
              "      <td>...</td>\n",
              "      <td>Steering Wheel Shaking</td>\n",
              "      <td>0</td>\n",
              "      <td>10</td>\n",
              "      <td>2017-11-10</td>\n",
              "      <td>3</td>\n",
              "      <td>89.999</td>\n",
              "      <td>3.0</td>\n",
              "      <td>0</td>\n",
              "      <td>0</td>\n",
              "      <td>2017-11-10</td>\n",
              "    </tr>\n",
              "    <tr>\n",
              "      <th>3</th>\n",
              "      <td>Bentley</td>\n",
              "      <td>Arnage</td>\n",
              "      <td>10_1</td>\n",
              "      <td>2018</td>\n",
              "      <td>4</td>\n",
              "      <td>Green</td>\n",
              "      <td>2003.0</td>\n",
              "      <td>Saloon</td>\n",
              "      <td>14000</td>\n",
              "      <td>6.8L</td>\n",
              "      <td>...</td>\n",
              "      <td>Electrical Issue</td>\n",
              "      <td>4</td>\n",
              "      <td>14</td>\n",
              "      <td>2018-04-14</td>\n",
              "      <td>3</td>\n",
              "      <td>224.844</td>\n",
              "      <td>6.0</td>\n",
              "      <td>0</td>\n",
              "      <td>0</td>\n",
              "      <td>2018-04-15</td>\n",
              "    </tr>\n",
              "    <tr>\n",
              "      <th>4</th>\n",
              "      <td>Bentley</td>\n",
              "      <td>Arnage</td>\n",
              "      <td>10_1</td>\n",
              "      <td>2017</td>\n",
              "      <td>11</td>\n",
              "      <td>Grey</td>\n",
              "      <td>2003.0</td>\n",
              "      <td>Saloon</td>\n",
              "      <td>61652</td>\n",
              "      <td>6.8L</td>\n",
              "      <td>...</td>\n",
              "      <td>Windscreen Crack</td>\n",
              "      <td>0</td>\n",
              "      <td>6</td>\n",
              "      <td>2017-11-06</td>\n",
              "      <td>3</td>\n",
              "      <td>75.933</td>\n",
              "      <td>3.0</td>\n",
              "      <td>0</td>\n",
              "      <td>0</td>\n",
              "      <td>2017-11-06</td>\n",
              "    </tr>\n",
              "  </tbody>\n",
              "</table>\n",
              "<p>5 rows × 25 columns</p>\n",
              "</div>\n",
              "    <div class=\"colab-df-buttons\">\n",
              "\n",
              "  <div class=\"colab-df-container\">\n",
              "    <button class=\"colab-df-convert\" onclick=\"convertToInteractive('df-3ba03b10-4299-44ed-a29e-2f49b5dedaa4')\"\n",
              "            title=\"Convert this dataframe to an interactive table.\"\n",
              "            style=\"display:none;\">\n",
              "\n",
              "  <svg xmlns=\"http://www.w3.org/2000/svg\" height=\"24px\" viewBox=\"0 -960 960 960\">\n",
              "    <path d=\"M120-120v-720h720v720H120Zm60-500h600v-160H180v160Zm220 220h160v-160H400v160Zm0 220h160v-160H400v160ZM180-400h160v-160H180v160Zm440 0h160v-160H620v160ZM180-180h160v-160H180v160Zm440 0h160v-160H620v160Z\"/>\n",
              "  </svg>\n",
              "    </button>\n",
              "\n",
              "  <style>\n",
              "    .colab-df-container {\n",
              "      display:flex;\n",
              "      gap: 12px;\n",
              "    }\n",
              "\n",
              "    .colab-df-convert {\n",
              "      background-color: #E8F0FE;\n",
              "      border: none;\n",
              "      border-radius: 50%;\n",
              "      cursor: pointer;\n",
              "      display: none;\n",
              "      fill: #1967D2;\n",
              "      height: 32px;\n",
              "      padding: 0 0 0 0;\n",
              "      width: 32px;\n",
              "    }\n",
              "\n",
              "    .colab-df-convert:hover {\n",
              "      background-color: #E2EBFA;\n",
              "      box-shadow: 0px 1px 2px rgba(60, 64, 67, 0.3), 0px 1px 3px 1px rgba(60, 64, 67, 0.15);\n",
              "      fill: #174EA6;\n",
              "    }\n",
              "\n",
              "    .colab-df-buttons div {\n",
              "      margin-bottom: 4px;\n",
              "    }\n",
              "\n",
              "    [theme=dark] .colab-df-convert {\n",
              "      background-color: #3B4455;\n",
              "      fill: #D2E3FC;\n",
              "    }\n",
              "\n",
              "    [theme=dark] .colab-df-convert:hover {\n",
              "      background-color: #434B5C;\n",
              "      box-shadow: 0px 1px 3px 1px rgba(0, 0, 0, 0.15);\n",
              "      filter: drop-shadow(0px 1px 2px rgba(0, 0, 0, 0.3));\n",
              "      fill: #FFFFFF;\n",
              "    }\n",
              "  </style>\n",
              "\n",
              "    <script>\n",
              "      const buttonEl =\n",
              "        document.querySelector('#df-3ba03b10-4299-44ed-a29e-2f49b5dedaa4 button.colab-df-convert');\n",
              "      buttonEl.style.display =\n",
              "        google.colab.kernel.accessAllowed ? 'block' : 'none';\n",
              "\n",
              "      async function convertToInteractive(key) {\n",
              "        const element = document.querySelector('#df-3ba03b10-4299-44ed-a29e-2f49b5dedaa4');\n",
              "        const dataTable =\n",
              "          await google.colab.kernel.invokeFunction('convertToInteractive',\n",
              "                                                    [key], {});\n",
              "        if (!dataTable) return;\n",
              "\n",
              "        const docLinkHtml = 'Like what you see? Visit the ' +\n",
              "          '<a target=\"_blank\" href=https://colab.research.google.com/notebooks/data_table.ipynb>data table notebook</a>'\n",
              "          + ' to learn more about interactive tables.';\n",
              "        element.innerHTML = '';\n",
              "        dataTable['output_type'] = 'display_data';\n",
              "        await google.colab.output.renderOutput(dataTable, element);\n",
              "        const docLink = document.createElement('div');\n",
              "        docLink.innerHTML = docLinkHtml;\n",
              "        element.appendChild(docLink);\n",
              "      }\n",
              "    </script>\n",
              "  </div>\n",
              "\n",
              "\n",
              "<div id=\"df-285dae1c-2fae-4cd3-9c87-04c36e9fa5c5\">\n",
              "  <button class=\"colab-df-quickchart\" onclick=\"quickchart('df-285dae1c-2fae-4cd3-9c87-04c36e9fa5c5')\"\n",
              "            title=\"Suggest charts\"\n",
              "            style=\"display:none;\">\n",
              "\n",
              "<svg xmlns=\"http://www.w3.org/2000/svg\" height=\"24px\"viewBox=\"0 0 24 24\"\n",
              "     width=\"24px\">\n",
              "    <g>\n",
              "        <path d=\"M19 3H5c-1.1 0-2 .9-2 2v14c0 1.1.9 2 2 2h14c1.1 0 2-.9 2-2V5c0-1.1-.9-2-2-2zM9 17H7v-7h2v7zm4 0h-2V7h2v10zm4 0h-2v-4h2v4z\"/>\n",
              "    </g>\n",
              "</svg>\n",
              "  </button>\n",
              "\n",
              "<style>\n",
              "  .colab-df-quickchart {\n",
              "      --bg-color: #E8F0FE;\n",
              "      --fill-color: #1967D2;\n",
              "      --hover-bg-color: #E2EBFA;\n",
              "      --hover-fill-color: #174EA6;\n",
              "      --disabled-fill-color: #AAA;\n",
              "      --disabled-bg-color: #DDD;\n",
              "  }\n",
              "\n",
              "  [theme=dark] .colab-df-quickchart {\n",
              "      --bg-color: #3B4455;\n",
              "      --fill-color: #D2E3FC;\n",
              "      --hover-bg-color: #434B5C;\n",
              "      --hover-fill-color: #FFFFFF;\n",
              "      --disabled-bg-color: #3B4455;\n",
              "      --disabled-fill-color: #666;\n",
              "  }\n",
              "\n",
              "  .colab-df-quickchart {\n",
              "    background-color: var(--bg-color);\n",
              "    border: none;\n",
              "    border-radius: 50%;\n",
              "    cursor: pointer;\n",
              "    display: none;\n",
              "    fill: var(--fill-color);\n",
              "    height: 32px;\n",
              "    padding: 0;\n",
              "    width: 32px;\n",
              "  }\n",
              "\n",
              "  .colab-df-quickchart:hover {\n",
              "    background-color: var(--hover-bg-color);\n",
              "    box-shadow: 0 1px 2px rgba(60, 64, 67, 0.3), 0 1px 3px 1px rgba(60, 64, 67, 0.15);\n",
              "    fill: var(--button-hover-fill-color);\n",
              "  }\n",
              "\n",
              "  .colab-df-quickchart-complete:disabled,\n",
              "  .colab-df-quickchart-complete:disabled:hover {\n",
              "    background-color: var(--disabled-bg-color);\n",
              "    fill: var(--disabled-fill-color);\n",
              "    box-shadow: none;\n",
              "  }\n",
              "\n",
              "  .colab-df-spinner {\n",
              "    border: 2px solid var(--fill-color);\n",
              "    border-color: transparent;\n",
              "    border-bottom-color: var(--fill-color);\n",
              "    animation:\n",
              "      spin 1s steps(1) infinite;\n",
              "  }\n",
              "\n",
              "  @keyframes spin {\n",
              "    0% {\n",
              "      border-color: transparent;\n",
              "      border-bottom-color: var(--fill-color);\n",
              "      border-left-color: var(--fill-color);\n",
              "    }\n",
              "    20% {\n",
              "      border-color: transparent;\n",
              "      border-left-color: var(--fill-color);\n",
              "      border-top-color: var(--fill-color);\n",
              "    }\n",
              "    30% {\n",
              "      border-color: transparent;\n",
              "      border-left-color: var(--fill-color);\n",
              "      border-top-color: var(--fill-color);\n",
              "      border-right-color: var(--fill-color);\n",
              "    }\n",
              "    40% {\n",
              "      border-color: transparent;\n",
              "      border-right-color: var(--fill-color);\n",
              "      border-top-color: var(--fill-color);\n",
              "    }\n",
              "    60% {\n",
              "      border-color: transparent;\n",
              "      border-right-color: var(--fill-color);\n",
              "    }\n",
              "    80% {\n",
              "      border-color: transparent;\n",
              "      border-right-color: var(--fill-color);\n",
              "      border-bottom-color: var(--fill-color);\n",
              "    }\n",
              "    90% {\n",
              "      border-color: transparent;\n",
              "      border-bottom-color: var(--fill-color);\n",
              "    }\n",
              "  }\n",
              "</style>\n",
              "\n",
              "  <script>\n",
              "    async function quickchart(key) {\n",
              "      const quickchartButtonEl =\n",
              "        document.querySelector('#' + key + ' button');\n",
              "      quickchartButtonEl.disabled = true;  // To prevent multiple clicks.\n",
              "      quickchartButtonEl.classList.add('colab-df-spinner');\n",
              "      try {\n",
              "        const charts = await google.colab.kernel.invokeFunction(\n",
              "            'suggestCharts', [key], {});\n",
              "      } catch (error) {\n",
              "        console.error('Error during call to suggestCharts:', error);\n",
              "      }\n",
              "      quickchartButtonEl.classList.remove('colab-df-spinner');\n",
              "      quickchartButtonEl.classList.add('colab-df-quickchart-complete');\n",
              "    }\n",
              "    (() => {\n",
              "      let quickchartButtonEl =\n",
              "        document.querySelector('#df-285dae1c-2fae-4cd3-9c87-04c36e9fa5c5 button');\n",
              "      quickchartButtonEl.style.display =\n",
              "        google.colab.kernel.accessAllowed ? 'block' : 'none';\n",
              "    })();\n",
              "  </script>\n",
              "</div>\n",
              "    </div>\n",
              "  </div>\n"
            ],
            "application/vnd.google.colaboratory.intrinsic+json": {
              "type": "dataframe",
              "variable_name": "data"
            }
          },
          "metadata": {},
          "execution_count": 15
        }
      ]
    },
    {
      "cell_type": "code",
      "source": [
        "data.info()"
      ],
      "metadata": {
        "execution": {
          "iopub.status.busy": "2024-05-07T15:00:10.655809Z",
          "iopub.execute_input": "2024-05-07T15:00:10.656066Z",
          "iopub.status.idle": "2024-05-07T15:00:10.975648Z",
          "shell.execute_reply.started": "2024-05-07T15:00:10.656044Z",
          "shell.execute_reply": "2024-05-07T15:00:10.974749Z"
        },
        "trusted": true,
        "colab": {
          "base_uri": "https://localhost:8080/"
        },
        "id": "uCdSHtNj3Atq",
        "outputId": "4c9c073b-193a-4dd3-e657-21523895b059"
      },
      "execution_count": 16,
      "outputs": [
        {
          "output_type": "stream",
          "name": "stdout",
          "text": [
            "<class 'pandas.core.frame.DataFrame'>\n",
            "RangeIndex: 268255 entries, 0 to 268254\n",
            "Data columns (total 25 columns):\n",
            " #   Column             Non-Null Count   Dtype  \n",
            "---  ------             --------------   -----  \n",
            " 0   Maker              268255 non-null  object \n",
            " 1    Genmodel          268255 non-null  object \n",
            " 2    Genmodel_ID       268255 non-null  object \n",
            " 3   Adv_year           268255 non-null  int64  \n",
            " 4   Adv_month          268255 non-null  int64  \n",
            " 5   Color              268255 non-null  object \n",
            " 6   Reg_year           268255 non-null  float64\n",
            " 7   Bodytype           268255 non-null  object \n",
            " 8   Runned_Miles       268255 non-null  int64  \n",
            " 9   Engin_size         268255 non-null  object \n",
            " 10  Gearbox            268255 non-null  object \n",
            " 11  Fuel_type          268255 non-null  object \n",
            " 12  Price              268255 non-null  float64\n",
            " 13  Seat_num           268255 non-null  float64\n",
            " 14  Door_num           268255 non-null  float64\n",
            " 15  issue              268255 non-null  object \n",
            " 16  issue_id           268255 non-null  int64  \n",
            " 17  Adv_day            268255 non-null  int64  \n",
            " 18  breakdown_date     268255 non-null  object \n",
            " 19  repair_complexity  268255 non-null  int64  \n",
            " 20  repair_cost        268255 non-null  float64\n",
            " 21  repair_hours       268255 non-null  float64\n",
            " 22  Label              268255 non-null  int64  \n",
            " 23  category_anomaly   268255 non-null  int64  \n",
            " 24  repair_date        268255 non-null  object \n",
            "dtypes: float64(6), int64(8), object(11)\n",
            "memory usage: 51.2+ MB\n"
          ]
        }
      ]
    },
    {
      "cell_type": "code",
      "source": [
        "data.columns"
      ],
      "metadata": {
        "execution": {
          "iopub.status.busy": "2024-05-07T15:00:10.976813Z",
          "iopub.execute_input": "2024-05-07T15:00:10.977397Z",
          "iopub.status.idle": "2024-05-07T15:00:10.983947Z",
          "shell.execute_reply.started": "2024-05-07T15:00:10.977365Z",
          "shell.execute_reply": "2024-05-07T15:00:10.983116Z"
        },
        "trusted": true,
        "colab": {
          "base_uri": "https://localhost:8080/"
        },
        "id": "K9QUjSUP3Atq",
        "outputId": "0608f597-5c38-4218-9e92-67e91be2dbcd"
      },
      "execution_count": 17,
      "outputs": [
        {
          "output_type": "execute_result",
          "data": {
            "text/plain": [
              "Index(['Maker', ' Genmodel', ' Genmodel_ID', 'Adv_year', 'Adv_month', 'Color',\n",
              "       'Reg_year', 'Bodytype', 'Runned_Miles', 'Engin_size', 'Gearbox',\n",
              "       'Fuel_type', 'Price', 'Seat_num', 'Door_num', 'issue', 'issue_id',\n",
              "       'Adv_day', 'breakdown_date', 'repair_complexity', 'repair_cost',\n",
              "       'repair_hours', 'Label', 'category_anomaly', 'repair_date'],\n",
              "      dtype='object')"
            ]
          },
          "metadata": {},
          "execution_count": 17
        }
      ]
    },
    {
      "cell_type": "code",
      "source": [
        "data['Bodytype'].value_counts()"
      ],
      "metadata": {
        "execution": {
          "iopub.status.busy": "2024-05-07T15:00:10.985018Z",
          "iopub.execute_input": "2024-05-07T15:00:10.985280Z",
          "iopub.status.idle": "2024-05-07T15:00:11.037159Z",
          "shell.execute_reply.started": "2024-05-07T15:00:10.985249Z",
          "shell.execute_reply": "2024-05-07T15:00:11.036251Z"
        },
        "trusted": true,
        "colab": {
          "base_uri": "https://localhost:8080/"
        },
        "id": "AaRF3eJG3Atq",
        "outputId": "cc28296f-2463-4f74-895d-14e55a464a1f"
      },
      "execution_count": 18,
      "outputs": [
        {
          "output_type": "execute_result",
          "data": {
            "text/plain": [
              "Bodytype\n",
              "Hatchback          103768\n",
              "SUV                 64396\n",
              "Saloon              22583\n",
              "MPV                 22507\n",
              "Coupe               17082\n",
              "Estate              16797\n",
              "Convertible         13206\n",
              "Pickup               5268\n",
              "Wood                  954\n",
              "Combi Van             657\n",
              "Panel Van             477\n",
              "Minibus               229\n",
              "Car Derived Van       119\n",
              "Limousine              93\n",
              "Window Van             88\n",
              "Camper                 24\n",
              "Manual                  5\n",
              "Tipper                  1\n",
              "Chassis Cab             1\n",
              "Name: count, dtype: int64"
            ]
          },
          "metadata": {},
          "execution_count": 18
        }
      ]
    },
    {
      "cell_type": "code",
      "source": [
        "data['Maker'].value_counts()"
      ],
      "metadata": {
        "execution": {
          "iopub.status.busy": "2024-05-07T15:00:11.038335Z",
          "iopub.execute_input": "2024-05-07T15:00:11.039100Z",
          "iopub.status.idle": "2024-05-07T15:00:11.092900Z",
          "shell.execute_reply.started": "2024-05-07T15:00:11.039068Z",
          "shell.execute_reply": "2024-05-07T15:00:11.091987Z"
        },
        "trusted": true,
        "colab": {
          "base_uri": "https://localhost:8080/"
        },
        "id": "hF45Q29_3Atq",
        "outputId": "7a4d85b7-482e-4387-cc62-0176d382ff82"
      },
      "execution_count": 19,
      "outputs": [
        {
          "output_type": "execute_result",
          "data": {
            "text/plain": [
              "Maker\n",
              "Ford          26937\n",
              "Audi          22521\n",
              "Vauxhall      20158\n",
              "Volkswagen    17999\n",
              "BMW           17194\n",
              "              ...  \n",
              "Brooke            1\n",
              "MEV               1\n",
              "Grinnall          1\n",
              "Koenigsegg        1\n",
              "Pilgrim           1\n",
              "Name: count, Length: 88, dtype: int64"
            ]
          },
          "metadata": {},
          "execution_count": 19
        }
      ]
    },
    {
      "cell_type": "code",
      "source": [
        "data['Gearbox'].value_counts()"
      ],
      "metadata": {
        "execution": {
          "iopub.status.busy": "2024-05-07T15:00:11.094053Z",
          "iopub.execute_input": "2024-05-07T15:00:11.094312Z",
          "iopub.status.idle": "2024-05-07T15:00:11.144478Z",
          "shell.execute_reply.started": "2024-05-07T15:00:11.094291Z",
          "shell.execute_reply": "2024-05-07T15:00:11.143615Z"
        },
        "trusted": true,
        "colab": {
          "base_uri": "https://localhost:8080/"
        },
        "id": "JTanh6EX3Atq",
        "outputId": "c3125f27-62f3-4cc3-b419-29f75d6e3b05"
      },
      "execution_count": 20,
      "outputs": [
        {
          "output_type": "execute_result",
          "data": {
            "text/plain": [
              "Gearbox\n",
              "Manual            170832\n",
              "Automatic          97119\n",
              "Hybrid               167\n",
              "Semi-Automatic       137\n",
              "Name: count, dtype: int64"
            ]
          },
          "metadata": {},
          "execution_count": 20
        }
      ]
    },
    {
      "cell_type": "code",
      "source": [
        "data.isnull().sum()"
      ],
      "metadata": {
        "execution": {
          "iopub.status.busy": "2024-05-07T15:00:11.147292Z",
          "iopub.execute_input": "2024-05-07T15:00:11.147667Z",
          "iopub.status.idle": "2024-05-07T15:00:11.418908Z",
          "shell.execute_reply.started": "2024-05-07T15:00:11.147643Z",
          "shell.execute_reply": "2024-05-07T15:00:11.418044Z"
        },
        "trusted": true,
        "colab": {
          "base_uri": "https://localhost:8080/"
        },
        "id": "3R4pdc9E3Atr",
        "outputId": "30dcbfa0-c9e5-4846-8e22-5480365d1cad"
      },
      "execution_count": 21,
      "outputs": [
        {
          "output_type": "execute_result",
          "data": {
            "text/plain": [
              "Maker                0\n",
              " Genmodel            0\n",
              " Genmodel_ID         0\n",
              "Adv_year             0\n",
              "Adv_month            0\n",
              "Color                0\n",
              "Reg_year             0\n",
              "Bodytype             0\n",
              "Runned_Miles         0\n",
              "Engin_size           0\n",
              "Gearbox              0\n",
              "Fuel_type            0\n",
              "Price                0\n",
              "Seat_num             0\n",
              "Door_num             0\n",
              "issue                0\n",
              "issue_id             0\n",
              "Adv_day              0\n",
              "breakdown_date       0\n",
              "repair_complexity    0\n",
              "repair_cost          0\n",
              "repair_hours         0\n",
              "Label                0\n",
              "category_anomaly     0\n",
              "repair_date          0\n",
              "dtype: int64"
            ]
          },
          "metadata": {},
          "execution_count": 21
        }
      ]
    },
    {
      "cell_type": "code",
      "source": [
        "# Display distribution of the price variable\n",
        "plt.figure(figsize=(10, 6))\n",
        "sns.histplot(data['Price'], bins=30, kde=True)\n",
        "plt.title('Distribution of Vehicle Prices')\n",
        "plt.xlabel('Price')\n",
        "plt.ylabel('Frequency')\n",
        "plt.xlim(-500000, 500000)\n",
        "plt.show()"
      ],
      "metadata": {
        "colab": {
          "base_uri": "https://localhost:8080/",
          "height": 564
        },
        "id": "Glcdfvem6aiy",
        "outputId": "f5dbd8b5-df9d-4c74-991e-c17dc7174cbe",
        "execution": {
          "iopub.status.busy": "2024-05-07T15:00:11.420042Z",
          "iopub.execute_input": "2024-05-07T15:00:11.420393Z",
          "iopub.status.idle": "2024-05-07T15:00:12.967686Z",
          "shell.execute_reply.started": "2024-05-07T15:00:11.420361Z",
          "shell.execute_reply": "2024-05-07T15:00:12.966837Z"
        },
        "trusted": true
      },
      "execution_count": 22,
      "outputs": [
        {
          "output_type": "display_data",
          "data": {
            "text/plain": [
              "<Figure size 1000x600 with 1 Axes>"
            ],
            "image/png": "[encoded data removed]"
          },
          "metadata": {}
        }
      ]
    },
    {
      "cell_type": "code",
      "source": [
        "# Filter rows with price equal to 0\n",
        "zero_price_vehicles = data[data['Price'] == 0]\n",
        "\n",
        "# Display the filtered rows\n",
        "print(len(zero_price_vehicles))"
      ],
      "metadata": {
        "execution": {
          "iopub.status.busy": "2024-05-07T15:00:12.968866Z",
          "iopub.execute_input": "2024-05-07T15:00:12.969140Z",
          "iopub.status.idle": "2024-05-07T15:00:12.975371Z",
          "shell.execute_reply.started": "2024-05-07T15:00:12.969116Z",
          "shell.execute_reply": "2024-05-07T15:00:12.974443Z"
        },
        "trusted": true,
        "colab": {
          "base_uri": "https://localhost:8080/"
        },
        "id": "bzqb4LcZ3Atr",
        "outputId": "a0ed7116-d5f2-43c6-f661-2472a1a61f97"
      },
      "execution_count": 23,
      "outputs": [
        {
          "output_type": "stream",
          "name": "stdout",
          "text": [
            "0\n"
          ]
        }
      ]
    },
    {
      "cell_type": "code",
      "source": [
        "# Feature Engineering\n",
        "# Calculate the age of the vehicle when it was last repaired\n",
        "data['breakdown_date'] = pd.to_datetime(data['breakdown_date'])\n",
        "data['repair_date'] = pd.to_datetime(data['repair_date'])\n",
        "data['last_repair_age'] = (data['breakdown_date'] - data['repair_date']).dt.days / 365.25"
      ],
      "metadata": {
        "id": "h_ee5o97m82R",
        "execution": {
          "iopub.status.busy": "2024-05-07T15:00:12.976999Z",
          "iopub.execute_input": "2024-05-07T15:00:12.977232Z",
          "iopub.status.idle": "2024-05-07T15:00:13.096252Z",
          "shell.execute_reply.started": "2024-05-07T15:00:12.977211Z",
          "shell.execute_reply": "2024-05-07T15:00:13.095521Z"
        },
        "trusted": true
      },
      "execution_count": 24,
      "outputs": []
    },
    {
      "cell_type": "code",
      "source": [
        "from datetime import datetime\n",
        "def extract_datetime_features(df, datetime_cols):\n",
        "    datetime_features = []\n",
        "    for col in datetime_cols:\n",
        "        df[col] = pd.to_datetime(df[col])\n",
        "        # Extract date features\n",
        "        df[f\"{col}_dayofweek\"] = df[col].dt.dayofweek\n",
        "        df[f\"{col}_month\"] = df[col].dt.month\n",
        "        datetime_features.extend([f\"{col}_month\",\n",
        "                                  f\"{col}_dayofweek\"])\n",
        "    return df[datetime_features]"
      ],
      "metadata": {
        "execution": {
          "iopub.status.busy": "2024-05-07T15:00:13.473626Z",
          "iopub.execute_input": "2024-05-07T15:00:13.473933Z",
          "iopub.status.idle": "2024-05-07T15:00:13.480187Z",
          "shell.execute_reply.started": "2024-05-07T15:00:13.473907Z",
          "shell.execute_reply": "2024-05-07T15:00:13.479200Z"
        },
        "trusted": true,
        "id": "ac3IccG_3Atr"
      },
      "execution_count": 25,
      "outputs": []
    },
    {
      "cell_type": "code",
      "source": [
        "datetime_cols=['breakdown_date','repair_date']\n",
        "datetime_features = extract_datetime_features(data, datetime_cols)"
      ],
      "metadata": {
        "execution": {
          "iopub.status.busy": "2024-05-07T15:00:14.232994Z",
          "iopub.execute_input": "2024-05-07T15:00:14.233655Z",
          "iopub.status.idle": "2024-05-07T15:00:14.340909Z",
          "shell.execute_reply.started": "2024-05-07T15:00:14.233610Z",
          "shell.execute_reply": "2024-05-07T15:00:14.339535Z"
        },
        "trusted": true,
        "id": "DVqbhCf_3Ats"
      },
      "execution_count": 26,
      "outputs": []
    },
    {
      "cell_type": "code",
      "source": [
        "# Distribution of Numerical Features\n",
        "numerical_columns = [col for col in data.columns if data[col].dtype in ['float64', 'int64']]\n",
        "\n",
        "plt.figure(figsize=(12, 8))\n",
        "for feature in numerical_columns:\n",
        "    plt.subplot(3, 5, numerical_columns.index(feature) + 1)\n",
        "    sns.histplot(data=data[feature], bins=20, kde=True)\n",
        "    plt.title(feature)\n",
        "plt.tight_layout()\n",
        "plt.show()\n"
      ],
      "metadata": {
        "execution": {
          "iopub.status.busy": "2024-05-07T15:00:15.088511Z",
          "iopub.execute_input": "2024-05-07T15:00:15.089356Z",
          "iopub.status.idle": "2024-05-07T15:00:35.467382Z",
          "shell.execute_reply.started": "2024-05-07T15:00:15.089323Z",
          "shell.execute_reply": "2024-05-07T15:00:35.466366Z"
        },
        "trusted": true,
        "colab": {
          "base_uri": "https://localhost:8080/",
          "height": 807
        },
        "id": "s09xovHu3Ats",
        "outputId": "7c079822-5ee3-4e30-a6a0-a8f9d4d49554"
      },
      "execution_count": 27,
      "outputs": [
        {
          "output_type": "display_data",
          "data": {
            "text/plain": [
              "<Figure size 1200x800 with 15 Axes>"
            ],
            "image/png": "[encoded data removed]"
          },
          "metadata": {}
        }
      ]
    },
    {
      "cell_type": "markdown",
      "source": [
        "Dealing with Skewness in the dataset"
      ],
      "metadata": {
        "id": "vNlXAS973Att"
      }
    },
    {
      "cell_type": "code",
      "source": [
        "# Apply log transformation to Reg_year\n",
        "data['Reg_year_log'] = np.log1p(data['Reg_year'])\n",
        "\n",
        "# Apply log transformation to Runned_Miles\n",
        "data['Runned_Miles_log'] = np.log1p(data['Runned_Miles'])\n",
        "\n",
        "# Apply log transformation to repair_cost\n",
        "data['repair_cost_log'] = np.log1p(data['repair_cost'])\n",
        "\n",
        "# Apply log transformation to repair_hours\n",
        "data['repair_hours_log'] = np.log1p(data['repair_hours'])\n",
        "\n",
        "# Apply log transformation to Price (target variable)\n",
        "data['Price_log'] = np.log1p(data['Price'])"
      ],
      "metadata": {
        "execution": {
          "iopub.status.busy": "2024-05-07T15:00:35.469449Z",
          "iopub.execute_input": "2024-05-07T15:00:35.469779Z",
          "iopub.status.idle": "2024-05-07T15:00:35.484067Z",
          "shell.execute_reply.started": "2024-05-07T15:00:35.469753Z",
          "shell.execute_reply": "2024-05-07T15:00:35.483170Z"
        },
        "trusted": true,
        "id": "P2C0H9EO3Atu"
      },
      "execution_count": 28,
      "outputs": []
    },
    {
      "cell_type": "code",
      "source": [
        "data = data.dropna()"
      ],
      "metadata": {
        "execution": {
          "iopub.status.busy": "2024-05-07T15:00:35.485220Z",
          "iopub.execute_input": "2024-05-07T15:00:35.485600Z",
          "iopub.status.idle": "2024-05-07T15:00:35.769868Z",
          "shell.execute_reply.started": "2024-05-07T15:00:35.485559Z",
          "shell.execute_reply": "2024-05-07T15:00:35.769048Z"
        },
        "trusted": true,
        "id": "3veojfq23Atv"
      },
      "execution_count": 29,
      "outputs": []
    },
    {
      "cell_type": "markdown",
      "source": [
        "As we can see we have now dealt with skewness of some variables\n"
      ],
      "metadata": {
        "id": "h_xX3bEf3Atv"
      }
    },
    {
      "cell_type": "code",
      "source": [
        "sns.histplot(data=data['Price_log'], bins=20, kde=True)"
      ],
      "metadata": {
        "execution": {
          "iopub.status.busy": "2024-05-07T15:00:35.772078Z",
          "iopub.execute_input": "2024-05-07T15:00:35.772725Z",
          "iopub.status.idle": "2024-05-07T15:00:37.304359Z",
          "shell.execute_reply.started": "2024-05-07T15:00:35.772690Z",
          "shell.execute_reply": "2024-05-07T15:00:37.303466Z"
        },
        "trusted": true,
        "colab": {
          "base_uri": "https://localhost:8080/",
          "height": 467
        },
        "id": "nlOaUboy3Atw",
        "outputId": "dddf57f9-8eb5-4336-f635-00189fecf5ce"
      },
      "execution_count": 30,
      "outputs": [
        {
          "output_type": "execute_result",
          "data": {
            "text/plain": [
              "<Axes: xlabel='Price_log', ylabel='Count'>"
            ]
          },
          "metadata": {},
          "execution_count": 30
        },
        {
          "output_type": "display_data",
          "data": {
            "text/plain": [
              "<Figure size 640x480 with 1 Axes>"
            ],
            "image/png": "[encoded data removed]"
          },
          "metadata": {}
        }
      ]
    },
    {
      "cell_type": "code",
      "source": [
        "plt.figure(figsize=(25, 8))\n",
        "sns.countplot(data=data, x='issue')\n",
        "plt.title('Distribution of Car Issues')\n",
        "plt.xlabel('Issue')\n",
        "plt.ylabel('Count')\n",
        "plt.show()"
      ],
      "metadata": {
        "execution": {
          "iopub.status.busy": "2024-05-07T15:00:37.305472Z",
          "iopub.execute_input": "2024-05-07T15:00:37.305796Z",
          "iopub.status.idle": "2024-05-07T15:00:37.903258Z",
          "shell.execute_reply.started": "2024-05-07T15:00:37.305770Z",
          "shell.execute_reply": "2024-05-07T15:00:37.902307Z"
        },
        "trusted": true,
        "colab": {
          "base_uri": "https://localhost:8080/",
          "height": 446
        },
        "id": "1NYzZz9h3Atw",
        "outputId": "979bae9b-3d6a-49dc-b0f1-46dfec66c74e"
      },
      "execution_count": 40,
      "outputs": [
        {
          "output_type": "display_data",
          "data": {
            "text/plain": [
              "<Figure size 2500x800 with 1 Axes>"
            ],
            "image/png": "[encoded data removed]"
          },
          "metadata": {}
        }
      ]
    },
    {
      "cell_type": "markdown",
      "source": [
        "<h2>Feature Engineering</h2>\n",
        "<P>trying to capture non linear relationships in the dataset</p>"
      ],
      "metadata": {
        "id": "DaOV6atV3Atw"
      }
    },
    {
      "cell_type": "code",
      "source": [
        "# data['Runned_Miles_x_Seat_num'] = data['Runned_Miles'] * data['Seat_num']\n",
        "data['Engin_size_x_Gearbox'] = data['Engin_size'] + '_' + data['Gearbox']\n",
        "data['repair_hours_complexity'] = data[\"repair_hours\"] * data['repair_complexity']"
      ],
      "metadata": {
        "execution": {
          "iopub.status.busy": "2024-05-07T15:00:37.904723Z",
          "iopub.execute_input": "2024-05-07T15:00:37.905414Z",
          "iopub.status.idle": "2024-05-07T15:00:37.975685Z",
          "shell.execute_reply.started": "2024-05-07T15:00:37.905379Z",
          "shell.execute_reply": "2024-05-07T15:00:37.974882Z"
        },
        "trusted": true,
        "id": "YRNywCJR3Atx"
      },
      "execution_count": 31,
      "outputs": []
    },
    {
      "cell_type": "markdown",
      "source": [
        "polynomial features"
      ],
      "metadata": {
        "id": "-NAw5GyQ3Atx"
      }
    },
    {
      "cell_type": "code",
      "source": [
        "data['repair_hours**2'] = data['repair_hours']**2\n",
        "data['repair_complexity**2'] = data['repair_complexity']**2"
      ],
      "metadata": {
        "execution": {
          "iopub.status.busy": "2024-05-07T15:48:07.567707Z",
          "iopub.execute_input": "2024-05-07T15:48:07.568373Z",
          "iopub.status.idle": "2024-05-07T15:48:07.575842Z",
          "shell.execute_reply.started": "2024-05-07T15:48:07.568340Z",
          "shell.execute_reply": "2024-05-07T15:48:07.574618Z"
        },
        "trusted": true,
        "id": "KojlM0zL3Atx"
      },
      "execution_count": 32,
      "outputs": []
    },
    {
      "cell_type": "code",
      "source": [
        "data2 =data.copy()"
      ],
      "metadata": {
        "execution": {
          "iopub.status.busy": "2024-05-07T15:48:36.313779Z",
          "iopub.execute_input": "2024-05-07T15:48:36.314398Z",
          "iopub.status.idle": "2024-05-07T15:48:36.411311Z",
          "shell.execute_reply.started": "2024-05-07T15:48:36.314369Z",
          "shell.execute_reply": "2024-05-07T15:48:36.410514Z"
        },
        "trusted": true,
        "id": "b8o28lZq3Atx"
      },
      "execution_count": 33,
      "outputs": []
    },
    {
      "cell_type": "code",
      "source": [
        "data2.columns"
      ],
      "metadata": {
        "execution": {
          "iopub.status.busy": "2024-05-07T15:48:36.531703Z",
          "iopub.execute_input": "2024-05-07T15:48:36.531999Z",
          "iopub.status.idle": "2024-05-07T15:48:36.538495Z",
          "shell.execute_reply.started": "2024-05-07T15:48:36.531976Z",
          "shell.execute_reply": "2024-05-07T15:48:36.537593Z"
        },
        "trusted": true,
        "colab": {
          "base_uri": "https://localhost:8080/"
        },
        "id": "tEdVACwX3Aty",
        "outputId": "8554c8c9-8f26-4edb-ac11-b91eaefd7020"
      },
      "execution_count": 34,
      "outputs": [
        {
          "output_type": "execute_result",
          "data": {
            "text/plain": [
              "Index(['Maker', ' Genmodel', ' Genmodel_ID', 'Adv_year', 'Adv_month', 'Color',\n",
              "       'Reg_year', 'Bodytype', 'Runned_Miles', 'Engin_size', 'Gearbox',\n",
              "       'Fuel_type', 'Price', 'Seat_num', 'Door_num', 'issue', 'issue_id',\n",
              "       'Adv_day', 'breakdown_date', 'repair_complexity', 'repair_cost',\n",
              "       'repair_hours', 'Label', 'category_anomaly', 'repair_date',\n",
              "       'last_repair_age', 'breakdown_date_dayofweek', 'breakdown_date_month',\n",
              "       'repair_date_dayofweek', 'repair_date_month', 'Reg_year_log',\n",
              "       'Runned_Miles_log', 'repair_cost_log', 'repair_hours_log', 'Price_log',\n",
              "       'Engin_size_x_Gearbox', 'repair_hours_complexity', 'repair_hours**2',\n",
              "       'repair_complexity**2'],\n",
              "      dtype='object')"
            ]
          },
          "metadata": {},
          "execution_count": 34
        }
      ]
    },
    {
      "cell_type": "code",
      "source": [
        "# Encode categorical variables\n",
        "columns_to_encode = ['Maker','issue',' Genmodel', 'Bodytype', 'Gearbox', 'Fuel_type', 'issue',\"Engin_size\",\"Color\",'Engin_size_x_Gearbox']\n",
        "encoder = LabelEncoder()\n",
        "for i in columns_to_encode:\n",
        "    data2[i] = encoder.fit_transform(data2[i])\n"
      ],
      "metadata": {
        "execution": {
          "iopub.status.busy": "2024-05-07T15:48:36.705817Z",
          "iopub.execute_input": "2024-05-07T15:48:36.706110Z",
          "iopub.status.idle": "2024-05-07T15:48:37.304413Z",
          "shell.execute_reply.started": "2024-05-07T15:48:36.706087Z",
          "shell.execute_reply": "2024-05-07T15:48:37.303620Z"
        },
        "trusted": true,
        "id": "1DM74AYs3Aty"
      },
      "execution_count": 35,
      "outputs": []
    },
    {
      "cell_type": "code",
      "source": [
        "# Select features and target variable\n",
        "X = data2.drop([\"issue\",\" Genmodel_ID\",\"issue_id\",'breakdown_date','repair_date','Label'], axis=1)\n",
        "y = data2['issue']"
      ],
      "metadata": {
        "id": "SvyvrG1hbqA7",
        "execution": {
          "iopub.status.busy": "2024-05-07T15:48:37.306294Z",
          "iopub.execute_input": "2024-05-07T15:48:37.306732Z",
          "iopub.status.idle": "2024-05-07T15:48:37.327166Z",
          "shell.execute_reply.started": "2024-05-07T15:48:37.306699Z",
          "shell.execute_reply": "2024-05-07T15:48:37.326480Z"
        },
        "trusted": true
      },
      "execution_count": 36,
      "outputs": []
    },
    {
      "cell_type": "code",
      "source": [
        "X.shape"
      ],
      "metadata": {
        "execution": {
          "iopub.status.busy": "2024-05-07T15:48:37.328103Z",
          "iopub.execute_input": "2024-05-07T15:48:37.328359Z",
          "iopub.status.idle": "2024-05-07T15:48:37.334545Z",
          "shell.execute_reply.started": "2024-05-07T15:48:37.328337Z",
          "shell.execute_reply": "2024-05-07T15:48:37.333723Z"
        },
        "trusted": true,
        "colab": {
          "base_uri": "https://localhost:8080/"
        },
        "id": "pXAh2ouD3Aty",
        "outputId": "94ee8f11-0dfe-434d-ddcb-bb3ef2c6dfbd"
      },
      "execution_count": 37,
      "outputs": [
        {
          "output_type": "execute_result",
          "data": {
            "text/plain": [
              "(266065, 33)"
            ]
          },
          "metadata": {},
          "execution_count": 37
        }
      ]
    },
    {
      "cell_type": "code",
      "source": [
        "X.head()"
      ],
      "metadata": {
        "execution": {
          "iopub.status.busy": "2024-05-07T15:48:38.207504Z",
          "iopub.execute_input": "2024-05-07T15:48:38.207861Z",
          "iopub.status.idle": "2024-05-07T15:48:38.233770Z",
          "shell.execute_reply.started": "2024-05-07T15:48:38.207832Z",
          "shell.execute_reply": "2024-05-07T15:48:38.232776Z"
        },
        "trusted": true,
        "colab": {
          "base_uri": "https://localhost:8080/",
          "height": 256
        },
        "id": "fiUDC0Cy3Aty",
        "outputId": "1a9aae7e-ea09-440f-8885-0636ce64807b"
      },
      "execution_count": 38,
      "outputs": [
        {
          "output_type": "execute_result",
          "data": {
            "text/plain": [
              "   Maker   Genmodel  Adv_year  Adv_month  Color  Reg_year  Bodytype  \\\n",
              "0      5        146      2018          4     19    2000.0        14   \n",
              "1      5        146      2018          6      9    2002.0        14   \n",
              "2      5        146      2017         11      2    2002.0        14   \n",
              "3      5        146      2018          4      8    2003.0        14   \n",
              "4      5        146      2017         11      9    2003.0        14   \n",
              "\n",
              "   Runned_Miles  Engin_size  Gearbox  ...  repair_date_month  Reg_year_log  \\\n",
              "0         60000          69        0  ...                  4      7.601402   \n",
              "1         44000          69        0  ...                  6      7.602401   \n",
              "2         55000          69        0  ...                 11      7.602401   \n",
              "3         14000          69        0  ...                  4      7.602900   \n",
              "4         61652          69        0  ...                 11      7.602900   \n",
              "\n",
              "   Runned_Miles_log  repair_cost_log  repair_hours_log  Price_log  \\\n",
              "0         11.002117         5.981414          2.302585   9.975855   \n",
              "1         10.691968         6.545350          1.945910  10.266428   \n",
              "2         10.915107         4.510849          1.386294  10.308953   \n",
              "3          9.546884         5.419844          1.945910  10.461645   \n",
              "4         11.029277         4.342935          1.386294  10.187011   \n",
              "\n",
              "   Engin_size_x_Gearbox  repair_hours_complexity  repair_hours**2  \\\n",
              "0                   170                     27.0             81.0   \n",
              "1                   170                     18.0             36.0   \n",
              "2                   170                      9.0              9.0   \n",
              "3                   170                     18.0             36.0   \n",
              "4                   170                      9.0              9.0   \n",
              "\n",
              "   repair_complexity**2  \n",
              "0                     9  \n",
              "1                     9  \n",
              "2                     9  \n",
              "3                     9  \n",
              "4                     9  \n",
              "\n",
              "[5 rows x 33 columns]"
            ],
            "text/html": [
              "\n",
              "  <div id=\"df-839c2611-4c1e-41dc-a78f-9237ea0f7676\" class=\"colab-df-container\">\n",
              "    <div>\n",
              "<style scoped>\n",
              "    .dataframe tbody tr th:only-of-type {\n",
              "        vertical-align: middle;\n",
              "    }\n",
              "\n",
              "    .dataframe tbody tr th {\n",
              "        vertical-align: top;\n",
              "    }\n",
              "\n",
              "    .dataframe thead th {\n",
              "        text-align: right;\n",
              "    }\n",
              "</style>\n",
              "<table border=\"1\" class=\"dataframe\">\n",
              "  <thead>\n",
              "    <tr style=\"text-align: right;\">\n",
              "      <th></th>\n",
              "      <th>Maker</th>\n",
              "      <th>Genmodel</th>\n",
              "      <th>Adv_year</th>\n",
              "      <th>Adv_month</th>\n",
              "      <th>Color</th>\n",
              "      <th>Reg_year</th>\n",
              "      <th>Bodytype</th>\n",
              "      <th>Runned_Miles</th>\n",
              "      <th>Engin_size</th>\n",
              "      <th>Gearbox</th>\n",
              "      <th>...</th>\n",
              "      <th>repair_date_month</th>\n",
              "      <th>Reg_year_log</th>\n",
              "      <th>Runned_Miles_log</th>\n",
              "      <th>repair_cost_log</th>\n",
              "      <th>repair_hours_log</th>\n",
              "      <th>Price_log</th>\n",
              "      <th>Engin_size_x_Gearbox</th>\n",
              "      <th>repair_hours_complexity</th>\n",
              "      <th>repair_hours**2</th>\n",
              "      <th>repair_complexity**2</th>\n",
              "    </tr>\n",
              "  </thead>\n",
              "  <tbody>\n",
              "    <tr>\n",
              "      <th>0</th>\n",
              "      <td>5</td>\n",
              "      <td>146</td>\n",
              "      <td>2018</td>\n",
              "      <td>4</td>\n",
              "      <td>19</td>\n",
              "      <td>2000.0</td>\n",
              "      <td>14</td>\n",
              "      <td>60000</td>\n",
              "      <td>69</td>\n",
              "      <td>0</td>\n",
              "      <td>...</td>\n",
              "      <td>4</td>\n",
              "      <td>7.601402</td>\n",
              "      <td>11.002117</td>\n",
              "      <td>5.981414</td>\n",
              "      <td>2.302585</td>\n",
              "      <td>9.975855</td>\n",
              "      <td>170</td>\n",
              "      <td>27.0</td>\n",
              "      <td>81.0</td>\n",
              "      <td>9</td>\n",
              "    </tr>\n",
              "    <tr>\n",
              "      <th>1</th>\n",
              "      <td>5</td>\n",
              "      <td>146</td>\n",
              "      <td>2018</td>\n",
              "      <td>6</td>\n",
              "      <td>9</td>\n",
              "      <td>2002.0</td>\n",
              "      <td>14</td>\n",
              "      <td>44000</td>\n",
              "      <td>69</td>\n",
              "      <td>0</td>\n",
              "      <td>...</td>\n",
              "      <td>6</td>\n",
              "      <td>7.602401</td>\n",
              "      <td>10.691968</td>\n",
              "      <td>6.545350</td>\n",
              "      <td>1.945910</td>\n",
              "      <td>10.266428</td>\n",
              "      <td>170</td>\n",
              "      <td>18.0</td>\n",
              "      <td>36.0</td>\n",
              "      <td>9</td>\n",
              "    </tr>\n",
              "    <tr>\n",
              "      <th>2</th>\n",
              "      <td>5</td>\n",
              "      <td>146</td>\n",
              "      <td>2017</td>\n",
              "      <td>11</td>\n",
              "      <td>2</td>\n",
              "      <td>2002.0</td>\n",
              "      <td>14</td>\n",
              "      <td>55000</td>\n",
              "      <td>69</td>\n",
              "      <td>0</td>\n",
              "      <td>...</td>\n",
              "      <td>11</td>\n",
              "      <td>7.602401</td>\n",
              "      <td>10.915107</td>\n",
              "      <td>4.510849</td>\n",
              "      <td>1.386294</td>\n",
              "      <td>10.308953</td>\n",
              "      <td>170</td>\n",
              "      <td>9.0</td>\n",
              "      <td>9.0</td>\n",
              "      <td>9</td>\n",
              "    </tr>\n",
              "    <tr>\n",
              "      <th>3</th>\n",
              "      <td>5</td>\n",
              "      <td>146</td>\n",
              "      <td>2018</td>\n",
              "      <td>4</td>\n",
              "      <td>8</td>\n",
              "      <td>2003.0</td>\n",
              "      <td>14</td>\n",
              "      <td>14000</td>\n",
              "      <td>69</td>\n",
              "      <td>0</td>\n",
              "      <td>...</td>\n",
              "      <td>4</td>\n",
              "      <td>7.602900</td>\n",
              "      <td>9.546884</td>\n",
              "      <td>5.419844</td>\n",
              "      <td>1.945910</td>\n",
              "      <td>10.461645</td>\n",
              "      <td>170</td>\n",
              "      <td>18.0</td>\n",
              "      <td>36.0</td>\n",
              "      <td>9</td>\n",
              "    </tr>\n",
              "    <tr>\n",
              "      <th>4</th>\n",
              "      <td>5</td>\n",
              "      <td>146</td>\n",
              "      <td>2017</td>\n",
              "      <td>11</td>\n",
              "      <td>9</td>\n",
              "      <td>2003.0</td>\n",
              "      <td>14</td>\n",
              "      <td>61652</td>\n",
              "      <td>69</td>\n",
              "      <td>0</td>\n",
              "      <td>...</td>\n",
              "      <td>11</td>\n",
              "      <td>7.602900</td>\n",
              "      <td>11.029277</td>\n",
              "      <td>4.342935</td>\n",
              "      <td>1.386294</td>\n",
              "      <td>10.187011</td>\n",
              "      <td>170</td>\n",
              "      <td>9.0</td>\n",
              "      <td>9.0</td>\n",
              "      <td>9</td>\n",
              "    </tr>\n",
              "  </tbody>\n",
              "</table>\n",
              "<p>5 rows × 33 columns</p>\n",
              "</div>\n",
              "    <div class=\"colab-df-buttons\">\n",
              "\n",
              "  <div class=\"colab-df-container\">\n",
              "    <button class=\"colab-df-convert\" onclick=\"convertToInteractive('df-839c2611-4c1e-41dc-a78f-9237ea0f7676')\"\n",
              "            title=\"Convert this dataframe to an interactive table.\"\n",
              "            style=\"display:none;\">\n",
              "\n",
              "  <svg xmlns=\"http://www.w3.org/2000/svg\" height=\"24px\" viewBox=\"0 -960 960 960\">\n",
              "    <path d=\"M120-120v-720h720v720H120Zm60-500h600v-160H180v160Zm220 220h160v-160H400v160Zm0 220h160v-160H400v160ZM180-400h160v-160H180v160Zm440 0h160v-160H620v160ZM180-180h160v-160H180v160Zm440 0h160v-160H620v160Z\"/>\n",
              "  </svg>\n",
              "    </button>\n",
              "\n",
              "  <style>\n",
              "    .colab-df-container {\n",
              "      display:flex;\n",
              "      gap: 12px;\n",
              "    }\n",
              "\n",
              "    .colab-df-convert {\n",
              "      background-color: #E8F0FE;\n",
              "      border: none;\n",
              "      border-radius: 50%;\n",
              "      cursor: pointer;\n",
              "      display: none;\n",
              "      fill: #1967D2;\n",
              "      height: 32px;\n",
              "      padding: 0 0 0 0;\n",
              "      width: 32px;\n",
              "    }\n",
              "\n",
              "    .colab-df-convert:hover {\n",
              "      background-color: #E2EBFA;\n",
              "      box-shadow: 0px 1px 2px rgba(60, 64, 67, 0.3), 0px 1px 3px 1px rgba(60, 64, 67, 0.15);\n",
              "      fill: #174EA6;\n",
              "    }\n",
              "\n",
              "    .colab-df-buttons div {\n",
              "      margin-bottom: 4px;\n",
              "    }\n",
              "\n",
              "    [theme=dark] .colab-df-convert {\n",
              "      background-color: #3B4455;\n",
              "      fill: #D2E3FC;\n",
              "    }\n",
              "\n",
              "    [theme=dark] .colab-df-convert:hover {\n",
              "      background-color: #434B5C;\n",
              "      box-shadow: 0px 1px 3px 1px rgba(0, 0, 0, 0.15);\n",
              "      filter: drop-shadow(0px 1px 2px rgba(0, 0, 0, 0.3));\n",
              "      fill: #FFFFFF;\n",
              "    }\n",
              "  </style>\n",
              "\n",
              "    <script>\n",
              "      const buttonEl =\n",
              "        document.querySelector('#df-839c2611-4c1e-41dc-a78f-9237ea0f7676 button.colab-df-convert');\n",
              "      buttonEl.style.display =\n",
              "        google.colab.kernel.accessAllowed ? 'block' : 'none';\n",
              "\n",
              "      async function convertToInteractive(key) {\n",
              "        const element = document.querySelector('#df-839c2611-4c1e-41dc-a78f-9237ea0f7676');\n",
              "        const dataTable =\n",
              "          await google.colab.kernel.invokeFunction('convertToInteractive',\n",
              "                                                    [key], {});\n",
              "        if (!dataTable) return;\n",
              "\n",
              "        const docLinkHtml = 'Like what you see? Visit the ' +\n",
              "          '<a target=\"_blank\" href=https://colab.research.google.com/notebooks/data_table.ipynb>data table notebook</a>'\n",
              "          + ' to learn more about interactive tables.';\n",
              "        element.innerHTML = '';\n",
              "        dataTable['output_type'] = 'display_data';\n",
              "        await google.colab.output.renderOutput(dataTable, element);\n",
              "        const docLink = document.createElement('div');\n",
              "        docLink.innerHTML = docLinkHtml;\n",
              "        element.appendChild(docLink);\n",
              "      }\n",
              "    </script>\n",
              "  </div>\n",
              "\n",
              "\n",
              "<div id=\"df-b872ea81-0144-4bc6-88e7-76c6bc3a2833\">\n",
              "  <button class=\"colab-df-quickchart\" onclick=\"quickchart('df-b872ea81-0144-4bc6-88e7-76c6bc3a2833')\"\n",
              "            title=\"Suggest charts\"\n",
              "            style=\"display:none;\">\n",
              "\n",
              "<svg xmlns=\"http://www.w3.org/2000/svg\" height=\"24px\"viewBox=\"0 0 24 24\"\n",
              "     width=\"24px\">\n",
              "    <g>\n",
              "        <path d=\"M19 3H5c-1.1 0-2 .9-2 2v14c0 1.1.9 2 2 2h14c1.1 0 2-.9 2-2V5c0-1.1-.9-2-2-2zM9 17H7v-7h2v7zm4 0h-2V7h2v10zm4 0h-2v-4h2v4z\"/>\n",
              "    </g>\n",
              "</svg>\n",
              "  </button>\n",
              "\n",
              "<style>\n",
              "  .colab-df-quickchart {\n",
              "      --bg-color: #E8F0FE;\n",
              "      --fill-color: #1967D2;\n",
              "      --hover-bg-color: #E2EBFA;\n",
              "      --hover-fill-color: #174EA6;\n",
              "      --disabled-fill-color: #AAA;\n",
              "      --disabled-bg-color: #DDD;\n",
              "  }\n",
              "\n",
              "  [theme=dark] .colab-df-quickchart {\n",
              "      --bg-color: #3B4455;\n",
              "      --fill-color: #D2E3FC;\n",
              "      --hover-bg-color: #434B5C;\n",
              "      --hover-fill-color: #FFFFFF;\n",
              "      --disabled-bg-color: #3B4455;\n",
              "      --disabled-fill-color: #666;\n",
              "  }\n",
              "\n",
              "  .colab-df-quickchart {\n",
              "    background-color: var(--bg-color);\n",
              "    border: none;\n",
              "    border-radius: 50%;\n",
              "    cursor: pointer;\n",
              "    display: none;\n",
              "    fill: var(--fill-color);\n",
              "    height: 32px;\n",
              "    padding: 0;\n",
              "    width: 32px;\n",
              "  }\n",
              "\n",
              "  .colab-df-quickchart:hover {\n",
              "    background-color: var(--hover-bg-color);\n",
              "    box-shadow: 0 1px 2px rgba(60, 64, 67, 0.3), 0 1px 3px 1px rgba(60, 64, 67, 0.15);\n",
              "    fill: var(--button-hover-fill-color);\n",
              "  }\n",
              "\n",
              "  .colab-df-quickchart-complete:disabled,\n",
              "  .colab-df-quickchart-complete:disabled:hover {\n",
              "    background-color: var(--disabled-bg-color);\n",
              "    fill: var(--disabled-fill-color);\n",
              "    box-shadow: none;\n",
              "  }\n",
              "\n",
              "  .colab-df-spinner {\n",
              "    border: 2px solid var(--fill-color);\n",
              "    border-color: transparent;\n",
              "    border-bottom-color: var(--fill-color);\n",
              "    animation:\n",
              "      spin 1s steps(1) infinite;\n",
              "  }\n",
              "\n",
              "  @keyframes spin {\n",
              "    0% {\n",
              "      border-color: transparent;\n",
              "      border-bottom-color: var(--fill-color);\n",
              "      border-left-color: var(--fill-color);\n",
              "    }\n",
              "    20% {\n",
              "      border-color: transparent;\n",
              "      border-left-color: var(--fill-color);\n",
              "      border-top-color: var(--fill-color);\n",
              "    }\n",
              "    30% {\n",
              "      border-color: transparent;\n",
              "      border-left-color: var(--fill-color);\n",
              "      border-top-color: var(--fill-color);\n",
              "      border-right-color: var(--fill-color);\n",
              "    }\n",
              "    40% {\n",
              "      border-color: transparent;\n",
              "      border-right-color: var(--fill-color);\n",
              "      border-top-color: var(--fill-color);\n",
              "    }\n",
              "    60% {\n",
              "      border-color: transparent;\n",
              "      border-right-color: var(--fill-color);\n",
              "    }\n",
              "    80% {\n",
              "      border-color: transparent;\n",
              "      border-right-color: var(--fill-color);\n",
              "      border-bottom-color: var(--fill-color);\n",
              "    }\n",
              "    90% {\n",
              "      border-color: transparent;\n",
              "      border-bottom-color: var(--fill-color);\n",
              "    }\n",
              "  }\n",
              "</style>\n",
              "\n",
              "  <script>\n",
              "    async function quickchart(key) {\n",
              "      const quickchartButtonEl =\n",
              "        document.querySelector('#' + key + ' button');\n",
              "      quickchartButtonEl.disabled = true;  // To prevent multiple clicks.\n",
              "      quickchartButtonEl.classList.add('colab-df-spinner');\n",
              "      try {\n",
              "        const charts = await google.colab.kernel.invokeFunction(\n",
              "            'suggestCharts', [key], {});\n",
              "      } catch (error) {\n",
              "        console.error('Error during call to suggestCharts:', error);\n",
              "      }\n",
              "      quickchartButtonEl.classList.remove('colab-df-spinner');\n",
              "      quickchartButtonEl.classList.add('colab-df-quickchart-complete');\n",
              "    }\n",
              "    (() => {\n",
              "      let quickchartButtonEl =\n",
              "        document.querySelector('#df-b872ea81-0144-4bc6-88e7-76c6bc3a2833 button');\n",
              "      quickchartButtonEl.style.display =\n",
              "        google.colab.kernel.accessAllowed ? 'block' : 'none';\n",
              "    })();\n",
              "  </script>\n",
              "</div>\n",
              "    </div>\n",
              "  </div>\n"
            ],
            "application/vnd.google.colaboratory.intrinsic+json": {
              "type": "dataframe",
              "variable_name": "X"
            }
          },
          "metadata": {},
          "execution_count": 38
        }
      ]
    },
    {
      "cell_type": "code",
      "source": [
        "!pip install optuna"
      ],
      "metadata": {
        "colab": {
          "base_uri": "https://localhost:8080/"
        },
        "id": "580kdQlq3ngP",
        "outputId": "58589f2c-ca8a-42fe-f70d-9df7f32a0e4f"
      },
      "execution_count": 41,
      "outputs": [
        {
          "output_type": "stream",
          "name": "stdout",
          "text": [
            "Requirement already satisfied: optuna in /usr/local/lib/python3.10/dist-packages (3.6.1)\n",
            "Requirement already satisfied: alembic>=1.5.0 in /usr/local/lib/python3.10/dist-packages (from optuna) (1.13.1)\n",
            "Requirement already satisfied: colorlog in /usr/local/lib/python3.10/dist-packages (from optuna) (6.8.2)\n",
            "Requirement already satisfied: numpy in /usr/local/lib/python3.10/dist-packages (from optuna) (1.25.2)\n",
            "Requirement already satisfied: packaging>=20.0 in /usr/local/lib/python3.10/dist-packages (from optuna) (24.0)\n",
            "Requirement already satisfied: sqlalchemy>=1.3.0 in /usr/local/lib/python3.10/dist-packages (from optuna) (2.0.30)\n",
            "Requirement already satisfied: tqdm in /usr/local/lib/python3.10/dist-packages (from optuna) (4.66.4)\n",
            "Requirement already satisfied: PyYAML in /usr/local/lib/python3.10/dist-packages (from optuna) (6.0.1)\n",
            "Requirement already satisfied: Mako in /usr/local/lib/python3.10/dist-packages (from alembic>=1.5.0->optuna) (1.3.3)\n",
            "Requirement already satisfied: typing-extensions>=4 in /usr/local/lib/python3.10/dist-packages (from alembic>=1.5.0->optuna) (4.11.0)\n",
            "Requirement already satisfied: greenlet!=0.4.17 in /usr/local/lib/python3.10/dist-packages (from sqlalchemy>=1.3.0->optuna) (3.0.3)\n",
            "Requirement already satisfied: MarkupSafe>=0.9.2 in /usr/local/lib/python3.10/dist-packages (from Mako->alembic>=1.5.0->optuna) (2.1.5)\n"
          ]
        }
      ]
    },
    {
      "cell_type": "code",
      "source": [
        "import optuna\n",
        "\n",
        "# Define the objective function for Optuna\n",
        "def objective(trial):\n",
        "    # Suggest hyperparameters\n",
        "    xgb_param = {\n",
        "        'learning_rate': trial.suggest_float('learning_rate', 0.01, 0.1),\n",
        "        'max_depth': trial.suggest_int('max_depth', 3, 9),\n",
        "        'subsample': trial.suggest_float('subsample', 0.5, 1.0),\n",
        "        'colsample_bytree': trial.suggest_float('colsample_bytree', 0.5, 1.0),\n",
        "        'n_estimators': trial.suggest_int('n_estimators', 100, 1000),\n",
        "        'objective': 'multi:softprob',\n",
        "        'tree_method': 'gpu_hist',\n",
        "        'eval_metric': 'mlogloss',\n",
        "        'random_state': 42,   'use_label_encoder': False , # Disable GPU training,\n",
        "         'tree_method': 'hist',        # Use CPU-based tree method\n",
        "         'gpu_id': -1\n",
        "    }\n",
        "\n",
        "    oof_pred = []\n",
        "    fold = KFold(n_splits=5, random_state=42, shuffle=True)\n",
        "\n",
        "    for train_index, test_index in fold.split(X, y):\n",
        "        X_train, X_test = X.iloc[train_index], X.iloc[test_index]\n",
        "        y_train, y_test = y.iloc[train_index], y.iloc[test_index]\n",
        "\n",
        "        xgb_model = xgb.XGBClassifier(**xgb_param)\n",
        "        xgb_model.fit(X_train, y_train, eval_set=[(X_test, y_test)], verbose=False, early_stopping_rounds=150)\n",
        "\n",
        "        preds = xgb_model.predict_proba(X_test)\n",
        "        f1 = f1_score(y_test, preds.argmax(1), average='macro')\n",
        "        oof_pred.append(f1)\n",
        "\n",
        "    return np.mean(oof_pred)\n",
        "\n",
        "# Create a study object and specify the direction is 'maximize'.\n",
        "study = optuna.create_study(direction='maximize')\n",
        "\n",
        "# Optimize the study, the objective function is passed in as the first argument.\n",
        "study.optimize(objective, n_trials=50)  # You can specify the number of trials\n",
        "\n",
        "# Print the result\n",
        "print(f\"Best trial: {study.best_trial.value}\")\n",
        "print(f\"Best params: {study.best_trial.params}\")\n"
      ],
      "metadata": {
        "id": "kEQ5iFEVrcKL",
        "execution": {
          "iopub.status.busy": "2024-05-07T15:00:52.619031Z",
          "iopub.execute_input": "2024-05-07T15:00:52.619328Z",
          "iopub.status.idle": "2024-05-07T15:00:52.624546Z",
          "shell.execute_reply.started": "2024-05-07T15:00:52.619306Z",
          "shell.execute_reply": "2024-05-07T15:00:52.623654Z"
        },
        "trusted": true,
        "colab": {
          "base_uri": "https://localhost:8080/"
        },
        "outputId": "87c9cd00-c5bf-4eba-f6f3-0d1403f9950f"
      },
      "execution_count": null,
      "outputs": [
        {
          "output_type": "stream",
          "name": "stderr",
          "text": [
            "[I 2024-05-12 22:24:04,753] A new study created in memory with name: no-name-c9e1212c-db34-4a37-8023-b7d144078faa\n"
          ]
        }
      ]
    },
    {
      "cell_type": "markdown",
      "source": [
        "Retrieving the best parameters from the above study."
      ],
      "metadata": {
        "id": "RK4zmp0r_JJS"
      }
    },
    {
      "cell_type": "code",
      "source": [
        "best_params={'learning_rate': 0.08842514346635928, 'max_depth': 9, 'subsample': 0.9978930557289465, 'colsample_bytree': 0.787564143427527, 'n_estimators': 999}"
      ],
      "metadata": {
        "id": "6bmBslaPnRJT",
        "execution": {
          "iopub.status.busy": "2024-05-07T15:00:53.985316Z",
          "iopub.execute_input": "2024-05-07T15:00:53.985665Z",
          "iopub.status.idle": "2024-05-07T15:00:53.990326Z",
          "shell.execute_reply.started": "2024-05-07T15:00:53.985628Z",
          "shell.execute_reply": "2024-05-07T15:00:53.989416Z"
        },
        "trusted": true
      },
      "execution_count": null,
      "outputs": []
    },
    {
      "cell_type": "markdown",
      "source": [
        "Using the above parameters to train a model with the above parameters"
      ],
      "metadata": {
        "id": "hhPAQWIL_ICi"
      }
    },
    {
      "cell_type": "code",
      "source": [
        "import xgboost as xgb\n",
        "from sklearn.model_selection import KFold\n",
        "from sklearn.metrics import f1_score\n",
        "\n",
        "# Define the XGBoost parameters\n",
        "xgb_param = {\n",
        "    'learning_rate': 0.08842514346635928,\n",
        "    'max_depth': 9,\n",
        "    'subsample': 0.9978930557289465,\n",
        "    'colsample_bytree': 0.787564143427527,\n",
        "    'n_estimators': 999,\n",
        "    'random_state': 42,\n",
        "    'objective': 'multi:softprob',  # Use softmax for multi-class classification\n",
        "    'tree_method': 'gpu_hist',\n",
        "    'eval_metric': 'mlogloss'  # Use multi-class log loss for evaluation\n",
        "}\n",
        "\n",
        "fold_pred = []\n",
        "oof_pred = []\n",
        "\n",
        "# Cross-validation using KFold with 10 splits\n",
        "fold = StratifiedKFold(n_splits=5, random_state=42, shuffle=True)\n",
        "\n",
        "for i, (train_index, test_index) in enumerate(fold.split(X, y), start=1):\n",
        "    X_train, X_test = X.iloc[train_index], X.iloc[test_index]\n",
        "    y_train, y_test = y.iloc[train_index], y.iloc[test_index]\n",
        "\n",
        "    xgb_model = xgb.XGBClassifier(**xgb_param, early_stopping_rounds=250)\n",
        "    xgb_model.fit(X_train, y_train, eval_set=[(X_test, y_test)], verbose=False)\n",
        "\n",
        "    preds = xgb_model.predict_proba(X_test)\n",
        "    f1 = f1_score(y_test, preds.argmax(1), average='macro')\n",
        "    print(f\"F1 Score (Fold {i}): {f1:.4f}\")\n",
        "    oof_pred.append(f1)\n",
        "\n",
        "print(f\"Mean F1 Score: {np.mean(oof_pred):.4f}\")"
      ],
      "metadata": {
        "colab": {
          "base_uri": "https://localhost:8080/",
          "height": 272
        },
        "id": "KcpoGnr-VS0p",
        "outputId": "8bc26543-e848-47e8-b315-486d82c5ebc4",
        "execution": {
          "iopub.status.busy": "2024-05-07T15:48:47.003700Z",
          "iopub.execute_input": "2024-05-07T15:48:47.004032Z",
          "iopub.status.idle": "2024-05-07T15:53:50.023660Z",
          "shell.execute_reply.started": "2024-05-07T15:48:47.004009Z",
          "shell.execute_reply": "2024-05-07T15:53:50.022678Z"
        },
        "trusted": true
      },
      "execution_count": null,
      "outputs": [
        {
          "name": "stdout",
          "text": "F1 Score (Fold 1): 0.8899\nF1 Score (Fold 2): 0.8897\nF1 Score (Fold 3): 0.8890\nF1 Score (Fold 4): 0.8887\nF1 Score (Fold 5): 0.8907\nMean F1 Score: 0.8896\n",
          "output_type": "stream"
        }
      ]
    },
    {
      "cell_type": "code",
      "source": [
        "def get_xgb_varimp(model, train_columns, max_vars=350):\n",
        "    feature_importances_perc = (model.feature_importances_ / sum(model.feature_importances_)) * 100\n",
        "    cv_varimp_df = pd.DataFrame([train_columns, feature_importances_perc]).T\n",
        "    cv_varimp_df.columns = ['feature_name', 'varimp (%)']\n",
        "    cv_varimp_df.sort_values(by='varimp (%)', ascending=False, inplace=True)\n",
        "    cv_varimp_df = cv_varimp_df.iloc[0:max_vars]\n",
        "    return cv_varimp_df\n",
        "get_xgb_varimp(xgb_model,X.columns)"
      ],
      "metadata": {
        "id": "SfRjoeBev3Ry",
        "execution": {
          "iopub.status.busy": "2024-05-07T15:53:50.025511Z",
          "iopub.execute_input": "2024-05-07T15:53:50.025887Z",
          "iopub.status.idle": "2024-05-07T15:53:50.113070Z",
          "shell.execute_reply.started": "2024-05-07T15:53:50.025855Z",
          "shell.execute_reply": "2024-05-07T15:53:50.112178Z"
        },
        "trusted": true,
        "outputId": "200df6d0-9211-45df-a0f3-026c614b2d19"
      },
      "execution_count": null,
      "outputs": [
        {
          "execution_count": 46,
          "output_type": "execute_result",
          "data": {
            "text/plain": "                feature_name varimp (%)\n27          repair_hours_log  23.990696\n17              repair_hours  17.721109\n31           repair_hours**2  13.564721\n30   repair_hours_complexity  13.091728\n15         repair_complexity   7.578415\n26           repair_cost_log   5.407506\n32      repair_complexity**2   4.928927\n16               repair_cost   3.739285\n28                 Price_log   2.275887\n19           last_repair_age   1.953596\n11                     Price   1.822436\n24              Reg_year_log   0.258001\n5                   Reg_year   0.257809\n8                 Engin_size   0.224798\n18          category_anomaly   0.199189\n2                   Adv_year   0.194377\n9                    Gearbox   0.187967\n12                  Seat_num   0.177987\n6                   Bodytype   0.175503\n25          Runned_Miles_log   0.174629\n7               Runned_Miles   0.174366\n14                   Adv_day   0.170201\n3                  Adv_month   0.164497\n29      Engin_size_x_Gearbox    0.16422\n1                   Genmodel   0.164139\n13                  Door_num   0.161668\n4                      Color   0.158851\n0                      Maker   0.157981\n20  breakdown_date_dayofweek   0.157643\n21      breakdown_date_month    0.15601\n22     repair_date_dayofweek   0.152355\n23         repair_date_month   0.151093\n10                 Fuel_type    0.14241",
            "text/html": "<div>\n<style scoped>\n    .dataframe tbody tr th:only-of-type {\n        vertical-align: middle;\n    }\n\n    .dataframe tbody tr th {\n        vertical-align: top;\n    }\n\n    .dataframe thead th {\n        text-align: right;\n    }\n</style>\n<table border=\"1\" class=\"dataframe\">\n  <thead>\n    <tr style=\"text-align: right;\">\n      <th></th>\n      <th>feature_name</th>\n      <th>varimp (%)</th>\n    </tr>\n  </thead>\n  <tbody>\n    <tr>\n      <th>27</th>\n      <td>repair_hours_log</td>\n      <td>23.990696</td>\n    </tr>\n    <tr>\n      <th>17</th>\n      <td>repair_hours</td>\n      <td>17.721109</td>\n    </tr>\n    <tr>\n      <th>31</th>\n      <td>repair_hours**2</td>\n      <td>13.564721</td>\n    </tr>\n    <tr>\n      <th>30</th>\n      <td>repair_hours_complexity</td>\n      <td>13.091728</td>\n    </tr>\n    <tr>\n      <th>15</th>\n      <td>repair_complexity</td>\n      <td>7.578415</td>\n    </tr>\n    <tr>\n      <th>26</th>\n      <td>repair_cost_log</td>\n      <td>5.407506</td>\n    </tr>\n    <tr>\n      <th>32</th>\n      <td>repair_complexity**2</td>\n      <td>4.928927</td>\n    </tr>\n    <tr>\n      <th>16</th>\n      <td>repair_cost</td>\n      <td>3.739285</td>\n    </tr>\n    <tr>\n      <th>28</th>\n      <td>Price_log</td>\n      <td>2.275887</td>\n    </tr>\n    <tr>\n      <th>19</th>\n      <td>last_repair_age</td>\n      <td>1.953596</td>\n    </tr>\n    <tr>\n      <th>11</th>\n      <td>Price</td>\n      <td>1.822436</td>\n    </tr>\n    <tr>\n      <th>24</th>\n      <td>Reg_year_log</td>\n      <td>0.258001</td>\n    </tr>\n    <tr>\n      <th>5</th>\n      <td>Reg_year</td>\n      <td>0.257809</td>\n    </tr>\n    <tr>\n      <th>8</th>\n      <td>Engin_size</td>\n      <td>0.224798</td>\n    </tr>\n    <tr>\n      <th>18</th>\n      <td>category_anomaly</td>\n      <td>0.199189</td>\n    </tr>\n    <tr>\n      <th>2</th>\n      <td>Adv_year</td>\n      <td>0.194377</td>\n    </tr>\n    <tr>\n      <th>9</th>\n      <td>Gearbox</td>\n      <td>0.187967</td>\n    </tr>\n    <tr>\n      <th>12</th>\n      <td>Seat_num</td>\n      <td>0.177987</td>\n    </tr>\n    <tr>\n      <th>6</th>\n      <td>Bodytype</td>\n      <td>0.175503</td>\n    </tr>\n    <tr>\n      <th>25</th>\n      <td>Runned_Miles_log</td>\n      <td>0.174629</td>\n    </tr>\n    <tr>\n      <th>7</th>\n      <td>Runned_Miles</td>\n      <td>0.174366</td>\n    </tr>\n    <tr>\n      <th>14</th>\n      <td>Adv_day</td>\n      <td>0.170201</td>\n    </tr>\n    <tr>\n      <th>3</th>\n      <td>Adv_month</td>\n      <td>0.164497</td>\n    </tr>\n    <tr>\n      <th>29</th>\n      <td>Engin_size_x_Gearbox</td>\n      <td>0.16422</td>\n    </tr>\n    <tr>\n      <th>1</th>\n      <td>Genmodel</td>\n      <td>0.164139</td>\n    </tr>\n    <tr>\n      <th>13</th>\n      <td>Door_num</td>\n      <td>0.161668</td>\n    </tr>\n    <tr>\n      <th>4</th>\n      <td>Color</td>\n      <td>0.158851</td>\n    </tr>\n    <tr>\n      <th>0</th>\n      <td>Maker</td>\n      <td>0.157981</td>\n    </tr>\n    <tr>\n      <th>20</th>\n      <td>breakdown_date_dayofweek</td>\n      <td>0.157643</td>\n    </tr>\n    <tr>\n      <th>21</th>\n      <td>breakdown_date_month</td>\n      <td>0.15601</td>\n    </tr>\n    <tr>\n      <th>22</th>\n      <td>repair_date_dayofweek</td>\n      <td>0.152355</td>\n    </tr>\n    <tr>\n      <th>23</th>\n      <td>repair_date_month</td>\n      <td>0.151093</td>\n    </tr>\n    <tr>\n      <th>10</th>\n      <td>Fuel_type</td>\n      <td>0.14241</td>\n    </tr>\n  </tbody>\n</table>\n</div>"
          },
          "metadata": {}
        }
      ]
    },
    {
      "cell_type": "code",
      "source": [
        "import catboost as cb\n",
        "# Define the CatBoost parameters\n",
        "cb_param = {\n",
        "    'random_seed': 42,\n",
        "    'loss_function': 'MultiClass',  # Use MultiClass for classification\n",
        "}\n",
        "\n",
        "fold_pred = []\n",
        "oof_pred = []\n",
        "\n",
        "# Cross-validation using KFold with 5 splits\n",
        "fold = KFold(n_splits=10, random_state=42, shuffle=True)\n",
        "for i, (train_index, test_index) in enumerate(fold.split(X, y), start=1):\n",
        "    X_train, X_test = X.iloc[train_index], X.iloc[test_index]\n",
        "    y_train, y_test = y.iloc[train_index], y.iloc[test_index]\n",
        "\n",
        "    catt_model = cb.CatBoostClassifier(**cb_param, task_type=\"GPU\",)\n",
        "    catt_model.fit(X_train, y_train, eval_set=(X_test, y_test),use_best_model=True ,verbose=False)\n",
        "\n",
        "    catt_preds = catt_model.predict_proba(X_test)\n",
        "    f1 = f1_score(y_test, catt_preds.argmax(axis=1), average='macro')\n",
        "    print(f\"F1 Score (Fold {i}): {f1:.4f}\")\n",
        "    oof_pred.append(f1)\n",
        "print(f\"Mean F1 Score: {np.mean(oof_pred):.4f}\")"
      ],
      "metadata": {
        "execution": {
          "iopub.status.busy": "2024-05-07T16:21:20.324251Z",
          "iopub.execute_input": "2024-05-07T16:21:20.324990Z",
          "iopub.status.idle": "2024-05-07T16:24:11.457906Z",
          "shell.execute_reply.started": "2024-05-07T16:21:20.324961Z",
          "shell.execute_reply": "2024-05-07T16:24:11.456940Z"
        },
        "trusted": true,
        "id": "stxYyEQQ3At1",
        "outputId": "4b5153e7-fe9b-486b-a2e6-4333b6c2c79e"
      },
      "execution_count": null,
      "outputs": [
        {
          "name": "stdout",
          "text": "F1 Score (Fold 1): 0.8671\nF1 Score (Fold 2): 0.8692\nF1 Score (Fold 3): 0.8669\nF1 Score (Fold 4): 0.8703\nF1 Score (Fold 5): 0.8644\nF1 Score (Fold 6): 0.8663\nF1 Score (Fold 7): 0.8666\nF1 Score (Fold 8): 0.8661\nF1 Score (Fold 9): 0.8667\nF1 Score (Fold 10): 0.8652\nMean F1 Score: 0.8669\n",
          "output_type": "stream"
        }
      ]
    },
    {
      "cell_type": "code",
      "source": [
        "def get_catt_varimp(model, train_columns, max_vars=350):\n",
        "    feature_importances_perc = (model.feature_importances_ / sum(model.feature_importances_)) * 100\n",
        "    cv_varimp_df = pd.DataFrame([train_columns, feature_importances_perc]).T\n",
        "    cv_varimp_df.columns = ['feature_name', 'varimp (%)']\n",
        "    cv_varimp_df.sort_values(by='varimp (%)', ascending=False, inplace=True)\n",
        "    cv_varimp_df = cv_varimp_df.iloc[0:max_vars]\n",
        "    return cv_varimp_df\n",
        "get_catt_varimp(catt_model,X.columns)"
      ],
      "metadata": {
        "execution": {
          "iopub.status.busy": "2024-05-07T16:24:44.059783Z",
          "iopub.execute_input": "2024-05-07T16:24:44.060476Z",
          "iopub.status.idle": "2024-05-07T16:24:44.077076Z",
          "shell.execute_reply.started": "2024-05-07T16:24:44.060443Z",
          "shell.execute_reply": "2024-05-07T16:24:44.076137Z"
        },
        "trusted": true,
        "id": "i2OmL03E3At1",
        "outputId": "b8d2d520-270f-44b1-9d9c-ce024142b493"
      },
      "execution_count": null,
      "outputs": [
        {
          "execution_count": 53,
          "output_type": "execute_result",
          "data": {
            "text/plain": "                feature_name varimp (%)\n16               repair_cost  31.364268\n11                     Price  19.215794\n30   repair_hours_complexity  12.682875\n17              repair_hours  10.672434\n15         repair_complexity   4.774365\n26           repair_cost_log   4.222439\n19           last_repair_age   3.454852\n27          repair_hours_log   2.893465\n28                 Price_log   1.535248\n31           repair_hours**2   1.322628\n7               Runned_Miles    0.94229\n32      repair_complexity**2   0.931048\n1                   Genmodel   0.740668\n14                   Adv_day    0.72804\n4                      Color   0.590017\n29      Engin_size_x_Gearbox   0.545771\n0                      Maker   0.524901\n5                   Reg_year   0.402404\n22     repair_date_dayofweek   0.368572\n20  breakdown_date_dayofweek   0.354787\n6                   Bodytype   0.264943\n23         repair_date_month   0.258533\n3                  Adv_month   0.238837\n10                 Fuel_type   0.139289\n13                  Door_num   0.132078\n12                  Seat_num   0.130833\n9                    Gearbox   0.130761\n25          Runned_Miles_log   0.130462\n8                 Engin_size   0.115751\n24              Reg_year_log   0.110448\n2                   Adv_year   0.039853\n18          category_anomaly   0.035177\n21      breakdown_date_month   0.006168",
            "text/html": "<div>\n<style scoped>\n    .dataframe tbody tr th:only-of-type {\n        vertical-align: middle;\n    }\n\n    .dataframe tbody tr th {\n        vertical-align: top;\n    }\n\n    .dataframe thead th {\n        text-align: right;\n    }\n</style>\n<table border=\"1\" class=\"dataframe\">\n  <thead>\n    <tr style=\"text-align: right;\">\n      <th></th>\n      <th>feature_name</th>\n      <th>varimp (%)</th>\n    </tr>\n  </thead>\n  <tbody>\n    <tr>\n      <th>16</th>\n      <td>repair_cost</td>\n      <td>31.364268</td>\n    </tr>\n    <tr>\n      <th>11</th>\n      <td>Price</td>\n      <td>19.215794</td>\n    </tr>\n    <tr>\n      <th>30</th>\n      <td>repair_hours_complexity</td>\n      <td>12.682875</td>\n    </tr>\n    <tr>\n      <th>17</th>\n      <td>repair_hours</td>\n      <td>10.672434</td>\n    </tr>\n    <tr>\n      <th>15</th>\n      <td>repair_complexity</td>\n      <td>4.774365</td>\n    </tr>\n    <tr>\n      <th>26</th>\n      <td>repair_cost_log</td>\n      <td>4.222439</td>\n    </tr>\n    <tr>\n      <th>19</th>\n      <td>last_repair_age</td>\n      <td>3.454852</td>\n    </tr>\n    <tr>\n      <th>27</th>\n      <td>repair_hours_log</td>\n      <td>2.893465</td>\n    </tr>\n    <tr>\n      <th>28</th>\n      <td>Price_log</td>\n      <td>1.535248</td>\n    </tr>\n    <tr>\n      <th>31</th>\n      <td>repair_hours**2</td>\n      <td>1.322628</td>\n    </tr>\n    <tr>\n      <th>7</th>\n      <td>Runned_Miles</td>\n      <td>0.94229</td>\n    </tr>\n    <tr>\n      <th>32</th>\n      <td>repair_complexity**2</td>\n      <td>0.931048</td>\n    </tr>\n    <tr>\n      <th>1</th>\n      <td>Genmodel</td>\n      <td>0.740668</td>\n    </tr>\n    <tr>\n      <th>14</th>\n      <td>Adv_day</td>\n      <td>0.72804</td>\n    </tr>\n    <tr>\n      <th>4</th>\n      <td>Color</td>\n      <td>0.590017</td>\n    </tr>\n    <tr>\n      <th>29</th>\n      <td>Engin_size_x_Gearbox</td>\n      <td>0.545771</td>\n    </tr>\n    <tr>\n      <th>0</th>\n      <td>Maker</td>\n      <td>0.524901</td>\n    </tr>\n    <tr>\n      <th>5</th>\n      <td>Reg_year</td>\n      <td>0.402404</td>\n    </tr>\n    <tr>\n      <th>22</th>\n      <td>repair_date_dayofweek</td>\n      <td>0.368572</td>\n    </tr>\n    <tr>\n      <th>20</th>\n      <td>breakdown_date_dayofweek</td>\n      <td>0.354787</td>\n    </tr>\n    <tr>\n      <th>6</th>\n      <td>Bodytype</td>\n      <td>0.264943</td>\n    </tr>\n    <tr>\n      <th>23</th>\n      <td>repair_date_month</td>\n      <td>0.258533</td>\n    </tr>\n    <tr>\n      <th>3</th>\n      <td>Adv_month</td>\n      <td>0.238837</td>\n    </tr>\n    <tr>\n      <th>10</th>\n      <td>Fuel_type</td>\n      <td>0.139289</td>\n    </tr>\n    <tr>\n      <th>13</th>\n      <td>Door_num</td>\n      <td>0.132078</td>\n    </tr>\n    <tr>\n      <th>12</th>\n      <td>Seat_num</td>\n      <td>0.130833</td>\n    </tr>\n    <tr>\n      <th>9</th>\n      <td>Gearbox</td>\n      <td>0.130761</td>\n    </tr>\n    <tr>\n      <th>25</th>\n      <td>Runned_Miles_log</td>\n      <td>0.130462</td>\n    </tr>\n    <tr>\n      <th>8</th>\n      <td>Engin_size</td>\n      <td>0.115751</td>\n    </tr>\n    <tr>\n      <th>24</th>\n      <td>Reg_year_log</td>\n      <td>0.110448</td>\n    </tr>\n    <tr>\n      <th>2</th>\n      <td>Adv_year</td>\n      <td>0.039853</td>\n    </tr>\n    <tr>\n      <th>18</th>\n      <td>category_anomaly</td>\n      <td>0.035177</td>\n    </tr>\n    <tr>\n      <th>21</th>\n      <td>breakdown_date_month</td>\n      <td>0.006168</td>\n    </tr>\n  </tbody>\n</table>\n</div>"
          },
          "metadata": {}
        }
      ]
    },
    {
      "cell_type": "code",
      "source": [
        "from sklearn.metrics import accuracy_score\n",
        "acc_score=accuracy_score(y_test,preds.argmax(1))"
      ],
      "metadata": {
        "execution": {
          "iopub.status.busy": "2024-05-07T15:55:36.748895Z",
          "iopub.execute_input": "2024-05-07T15:55:36.749299Z",
          "iopub.status.idle": "2024-05-07T15:55:36.758104Z",
          "shell.execute_reply.started": "2024-05-07T15:55:36.749268Z",
          "shell.execute_reply": "2024-05-07T15:55:36.757213Z"
        },
        "trusted": true,
        "id": "2BXA9j7O3At1"
      },
      "execution_count": null,
      "outputs": []
    },
    {
      "cell_type": "code",
      "source": [
        "acc_score"
      ],
      "metadata": {
        "execution": {
          "iopub.status.busy": "2024-05-07T15:55:36.979049Z",
          "iopub.execute_input": "2024-05-07T15:55:36.979432Z",
          "iopub.status.idle": "2024-05-07T15:55:36.985882Z",
          "shell.execute_reply.started": "2024-05-07T15:55:36.979402Z",
          "shell.execute_reply": "2024-05-07T15:55:36.984979Z"
        },
        "trusted": true,
        "id": "scIXRMgD3At2",
        "outputId": "88d396e1-4815-4f36-fc53-ab9f52ec809f"
      },
      "execution_count": null,
      "outputs": [
        {
          "execution_count": 48,
          "output_type": "execute_result",
          "data": {
            "text/plain": "0.8905342679420443"
          },
          "metadata": {}
        }
      ]
    },
    {
      "cell_type": "markdown",
      "source": [
        "<h2>Further metrics for evaluating the model</h2>"
      ],
      "metadata": {
        "id": "SaFaDJsb3At2"
      }
    }
  ]
}